{
 "cells": [
  {
   "cell_type": "code",
   "execution_count": 1,
   "id": "c7220e51-e89e-4580-85f4-508aac165d65",
   "metadata": {},
   "outputs": [
    {
     "name": "stdout",
     "output_type": "stream",
     "text": [
      "Reversed String =  !dlroW olleH\n"
     ]
    }
   ],
   "source": [
    "#1 program to reverse a string\n",
    "input_str=\"Hello World!\"\n",
    "rev_str=input_str[::-1]\n",
    "print(\"Reversed String = \",rev_str)"
   ]
  },
  {
   "cell_type": "code",
   "execution_count": 1,
   "id": "f693eaf6-dbe4-4418-9ad4-0ff915bc20ba",
   "metadata": {},
   "outputs": [
    {
     "name": "stdout",
     "output_type": "stream",
     "text": [
      "racecar is a palindrome\n"
     ]
    }
   ],
   "source": [
    "#2 program to check whether string is palindrome or not\n",
    "my_str=\"racecar\"\n",
    "rev_str=my_str[::-1]\n",
    "if my_str==rev_str:\n",
    "    print(my_str,\"is a palindrome\")\n",
    "else:\n",
    "    print(my_str,\"is not a palindrome\")"
   ]
  },
  {
   "cell_type": "code",
   "execution_count": 3,
   "id": "77f6519c-b357-4e7b-8450-b83a22a73de9",
   "metadata": {},
   "outputs": [
    {
     "name": "stdin",
     "output_type": "stream",
     "text": [
      "Enter string: AfroZ\n"
     ]
    },
    {
     "name": "stdout",
     "output_type": "stream",
     "text": [
      "AFROZ\n"
     ]
    }
   ],
   "source": [
    "#3 program to convert string to uppercase\n",
    "input_string=input(\"Enter string:\")\n",
    "upper_case=input_string.upper()\n",
    "print(upper_case)\n"
   ]
  },
  {
   "cell_type": "code",
   "execution_count": 4,
   "id": "5eef5327-97a6-4f4f-8525-a308ce4c4853",
   "metadata": {},
   "outputs": [
    {
     "name": "stdin",
     "output_type": "stream",
     "text": [
      "Enter string: AFROZ\n"
     ]
    },
    {
     "name": "stdout",
     "output_type": "stream",
     "text": [
      "afroz\n"
     ]
    }
   ],
   "source": [
    "#4 program to convert string to lowercase\n",
    "input_string=input(\"Enter string:\")\n",
    "lower_case=input_string.lower()\n",
    "print(lower_case)"
   ]
  },
  {
   "cell_type": "code",
   "execution_count": 5,
   "id": "d4f86580-5b0d-424a-8cdb-943334318323",
   "metadata": {},
   "outputs": [
    {
     "name": "stdin",
     "output_type": "stream",
     "text": [
      "Enter string : Afroz\n"
     ]
    },
    {
     "name": "stdout",
     "output_type": "stream",
     "text": [
      "No of vowels :  2\n"
     ]
    }
   ],
   "source": [
    "#5 program to count number of vowels\n",
    "my_str=input(\"Enter string :\")\n",
    "vowel_count=0\n",
    "vowels=set(\"aeiouAEIOU\")\n",
    "for i in my_str:\n",
    "    if i in vowels:\n",
    "        vowel_count+=1\n",
    "print(\"No of vowels : \",vowel_count)\n",
    "    "
   ]
  },
  {
   "cell_type": "code",
   "execution_count": 7,
   "id": "1aae966a-b175-4e14-821c-188dbf4f6d9c",
   "metadata": {},
   "outputs": [
    {
     "name": "stdin",
     "output_type": "stream",
     "text": [
      "Enter string : likhitha jinka\n"
     ]
    },
    {
     "name": "stdout",
     "output_type": "stream",
     "text": [
      "No of consonants :  8\n"
     ]
    }
   ],
   "source": [
    "#6 program to count number of consonants\n",
    "my_str=input(\"Enter string :\")\n",
    "consonant_count=0\n",
    "consonants=set(\"bcdfghjklmnpqrstvwxyzBCDFGHJKLMNPQRSTVWXYZ\")\n",
    "for i in my_str:\n",
    "    if i in consonants:\n",
    "        consonant_count+=1\n",
    "print(\"No of consonants : \",consonant_count)\n",
    "               "
   ]
  },
  {
   "cell_type": "code",
   "execution_count": 6,
   "id": "9645cbad-6af9-46bb-b8eb-8ac41fc183eb",
   "metadata": {},
   "outputs": [
    {
     "name": "stdin",
     "output_type": "stream",
     "text": [
      "Enter string : hi how  are you\n"
     ]
    },
    {
     "name": "stdout",
     "output_type": "stream",
     "text": [
      "New string is : hihowareyou\n"
     ]
    }
   ],
   "source": [
    "#7 program to remove whitespaces from a string\n",
    "my_str=input(\"Enter string :\")\n",
    "new_str=my_str.replace(\" \",\"\")\n",
    "print(\"New string is :\", new_str)\n",
    "\n"
   ]
  },
  {
   "cell_type": "code",
   "execution_count": 7,
   "id": "bbdbb72c-6f19-4cbe-9313-2df88ece8881",
   "metadata": {},
   "outputs": [
    {
     "name": "stdin",
     "output_type": "stream",
     "text": [
      "Enter string : likhitha\n"
     ]
    },
    {
     "name": "stdout",
     "output_type": "stream",
     "text": [
      "Length of string : 8\n"
     ]
    }
   ],
   "source": [
    "#8 program to find length of a string without len() function\n",
    "my_str=input(\"Enter string :\")\n",
    "str_len=0\n",
    "for i in my_str:\n",
    "    str_len +=1\n",
    "print(\"Length of string :\",str_len)"
   ]
  },
  {
   "cell_type": "code",
   "execution_count": 8,
   "id": "1ffcb584-f1d2-4b20-82c8-8e4394dc7da0",
   "metadata": {},
   "outputs": [
    {
     "name": "stdin",
     "output_type": "stream",
     "text": [
      "Enter string : I love Tamil\n",
      "Enter specific string : Tamil\n"
     ]
    },
    {
     "name": "stdout",
     "output_type": "stream",
     "text": [
      "I love Tamil contains Tamil\n"
     ]
    }
   ],
   "source": [
    "#9 program to find string contains a specific word\n",
    "my_str=input(\"Enter string :\")\n",
    "specific_str=input(\"Enter specific string :\")\n",
    "if specific_str in my_str:\n",
    "    print(my_str, \"contains\",specific_str)\n",
    "else:\n",
    "    print(my_str,\"not contains\",specific_str)"
   ]
  },
  {
   "cell_type": "code",
   "execution_count": 9,
   "id": "d613d5dd-fbd4-43b7-a27b-fd3e6306eff4",
   "metadata": {},
   "outputs": [
    {
     "name": "stdin",
     "output_type": "stream",
     "text": [
      "Enter string : Iam a bad boy\n",
      "Enter old word : bad\n",
      "Enter new word : good\n"
     ]
    },
    {
     "name": "stdout",
     "output_type": "stream",
     "text": [
      "New string : Iam a good boy\n"
     ]
    }
   ],
   "source": [
    "#10 program to replace a word in string with another word\n",
    "my_str=input(\"Enter string :\")\n",
    "old_word=input(\"Enter old word :\")\n",
    "new_word=input(\"Enter new word :\")\n",
    "new_str=my_str.replace(old_word,new_word)\n",
    "print(\"New string :\",new_str)\n"
   ]
  },
  {
   "cell_type": "code",
   "execution_count": 10,
   "id": "42baa41b-d2a9-499f-8803-37c6e2e18f95",
   "metadata": {},
   "outputs": [
    {
     "name": "stdin",
     "output_type": "stream",
     "text": [
      "Enter string : india is my country,i love my country\n",
      "Enter word : country\n"
     ]
    },
    {
     "name": "stdout",
     "output_type": "stream",
     "text": [
      "No of occurrences of country is 2\n"
     ]
    }
   ],
   "source": [
    "#11 program to count occurrences of a word \n",
    "my_str=input(\"Enter string :\")\n",
    "target_word=input(\"Enter word :\")\n",
    "occurrences_count=my_str.count(target_word)\n",
    "print(\"No of occurrences of\",target_word,\"is\",occurrences_count)"
   ]
  },
  {
   "cell_type": "code",
   "execution_count": 11,
   "id": "e0e30ecb-f109-401c-a118-477cff78a880",
   "metadata": {},
   "outputs": [
    {
     "name": "stdin",
     "output_type": "stream",
     "text": [
      "Enter string : india is my country,i love my country\n",
      "Enter word: country\n"
     ]
    },
    {
     "name": "stdout",
     "output_type": "stream",
     "text": [
      "First Occurrence is : 12\n"
     ]
    }
   ],
   "source": [
    "#12 program to find first occurrences of a word\n",
    "my_str=input(\"Enter string :\")\n",
    "word=input(\"Enter word:\")\n",
    "first_occurrence=my_str.find(word)\n",
    "print(\"First Occurrence is :\",first_occurrence)"
   ]
  },
  {
   "cell_type": "code",
   "execution_count": 12,
   "id": "bd9b639b-f870-4b46-a32e-50e08878e7ad",
   "metadata": {},
   "outputs": [
    {
     "name": "stdin",
     "output_type": "stream",
     "text": [
      "Enter string : india is my country,i love my country\n",
      "Enter word: country\n"
     ]
    },
    {
     "name": "stdout",
     "output_type": "stream",
     "text": [
      "Last Occurrence is : 30\n"
     ]
    }
   ],
   "source": [
    "#13 program to find last occurrence of a word\n",
    "my_str=input(\"Enter string :\")\n",
    "word=input(\"Enter word:\")\n",
    "last_occurrence=my_str.rfind(word)\n",
    "print(\"Last Occurrence is :\",last_occurrence)"
   ]
  },
  {
   "cell_type": "code",
   "execution_count": 13,
   "id": "c6c2b408-6f5d-4132-83cb-6a255c9f21e8",
   "metadata": {},
   "outputs": [
    {
     "name": "stdin",
     "output_type": "stream",
     "text": [
      "Enter string : hi helloo\n"
     ]
    },
    {
     "name": "stdout",
     "output_type": "stream",
     "text": [
      "List of words : ['hi', 'helloo']\n"
     ]
    }
   ],
   "source": [
    "#14 program to split string into list of words\n",
    "my_str=input(\"Enter string :\")\n",
    "split_words=my_str.split()\n",
    "print(\"List of words :\",split_words)"
   ]
  },
  {
   "cell_type": "code",
   "execution_count": 18,
   "id": "982f314d-59d3-4c92-89ff-d71be4ba130a",
   "metadata": {},
   "outputs": [
    {
     "name": "stdout",
     "output_type": "stream",
     "text": [
      "Joined String is : How are you\n"
     ]
    }
   ],
   "source": [
    "#15 program to join list of words into string\n",
    "words_list=['How','are','you']\n",
    "joined_string=' '.join(words_list)\n",
    "print(\"Joined String is :\",joined_string)\n"
   ]
  },
  {
   "cell_type": "code",
   "execution_count": 14,
   "id": "a7d579b4-39f0-4ba4-9cb6-0e28c8892589",
   "metadata": {},
   "outputs": [
    {
     "name": "stdin",
     "output_type": "stream",
     "text": [
      "Enter string : python is a programming lang\n"
     ]
    },
    {
     "name": "stdout",
     "output_type": "stream",
     "text": [
      "Underscore seperated string : python_is_a_programming_lang\n"
     ]
    }
   ],
   "source": [
    "#16 program to convert string from space seperated words to underscore seperated words\n",
    "my_str=input(\"Enter string :\")\n",
    "underscore_seperated=my_str.replace(\" \",\"_\")\n",
    "print(\"Underscore seperated string :\",underscore_seperated)"
   ]
  },
  {
   "cell_type": "code",
   "execution_count": 16,
   "id": "7725efb4-8089-4607-873e-f27fafaa5427",
   "metadata": {},
   "outputs": [
    {
     "name": "stdin",
     "output_type": "stream",
     "text": [
      "Enter string : python is easy\n",
      "Enter word : python\n"
     ]
    },
    {
     "name": "stdout",
     "output_type": "stream",
     "text": [
      "String starts with python\n"
     ]
    }
   ],
   "source": [
    "#17 program to check if string starts with specific word or phrase\n",
    "my_str=input(\"Enter string :\")\n",
    "specific_word=input(\"Enter word :\")\n",
    "if my_str.startswith(specific_word):\n",
    "    print(\"String starts with\",specific_word)\n",
    "else:\n",
    "    print(\"String not starts with\",specific_word)"
   ]
  },
  {
   "cell_type": "code",
   "execution_count": 17,
   "id": "056300df-f5b5-4a34-a09b-0f31d74bddf1",
   "metadata": {},
   "outputs": [
    {
     "name": "stdin",
     "output_type": "stream",
     "text": [
      "Enter string : python is easy\n",
      "Enter word : easy\n"
     ]
    },
    {
     "name": "stdout",
     "output_type": "stream",
     "text": [
      "String ends with easy\n"
     ]
    }
   ],
   "source": [
    "#18 program to check if string ends with specific word or phrase\n",
    "my_str=input(\"Enter string :\")\n",
    "specific_word=input(\"Enter word :\")\n",
    "if my_str.endswith(specific_word):\n",
    "    print(\"String ends with\",specific_word)\n",
    "else:\n",
    "    print(\"String not ends with\",specfic_word)"
   ]
  },
  {
   "cell_type": "code",
   "execution_count": 18,
   "id": "32cbb603-b486-4ae3-8e80-18aeec8cb266",
   "metadata": {},
   "outputs": [
    {
     "name": "stdin",
     "output_type": "stream",
     "text": [
      "Enter string : physics wallah\n"
     ]
    },
    {
     "name": "stdout",
     "output_type": "stream",
     "text": [
      "Title case :  Physics Wallah\n"
     ]
    }
   ],
   "source": [
    "#19 program to convert string to title case\n",
    "my_str=input(\"Enter string :\")\n",
    "title_case=my_str.title()\n",
    "print(\"Title case : \",title_case)"
   ]
  },
  {
   "cell_type": "code",
   "execution_count": 19,
   "id": "29f12337-75ba-4b91-9164-9fcaed78376b",
   "metadata": {},
   "outputs": [
    {
     "name": "stdin",
     "output_type": "stream",
     "text": [
      "Enter string : python is a programming lang\n"
     ]
    },
    {
     "name": "stdout",
     "output_type": "stream",
     "text": [
      "Longest Word is : programming\n"
     ]
    }
   ],
   "source": [
    "#20 program to find longest word in a string\n",
    "my_str=input(\"Enter string :\")\n",
    "words_list=my_str.split()\n",
    "longest_word=max(words_list,key=len)\n",
    "print(\"Longest Word is :\",longest_word)"
   ]
  },
  {
   "cell_type": "code",
   "execution_count": 20,
   "id": "508981a8-7bd3-47cd-b463-2e63c49bfeb6",
   "metadata": {},
   "outputs": [
    {
     "name": "stdin",
     "output_type": "stream",
     "text": [
      "Enter string : This is likhitha\n"
     ]
    },
    {
     "name": "stdout",
     "output_type": "stream",
     "text": [
      "Shortest Word is : is\n"
     ]
    }
   ],
   "source": [
    "#21 program to find shortest word in a string\n",
    "my_str=input(\"Enter string :\")\n",
    "words_list=my_str.split()\n",
    "shortest_word=min(words_list,key=len)\n",
    "print(\"Shortest Word is :\",shortest_word)"
   ]
  },
  {
   "cell_type": "code",
   "execution_count": 21,
   "id": "4fa471cf-c315-4eda-8a10-d0208b867a73",
   "metadata": {},
   "outputs": [
    {
     "name": "stdin",
     "output_type": "stream",
     "text": [
      "Enter string : This is bondam\n"
     ]
    },
    {
     "name": "stdout",
     "output_type": "stream",
     "text": [
      "Reversed order of string : bondam is This\n"
     ]
    }
   ],
   "source": [
    "#22 program to reverse order of words in a string\n",
    "my_str=input(\"Enter string :\")\n",
    "words_list=my_str.split()\n",
    "reverse_words=list(reversed(words_list))\n",
    "print(\"Reversed order of string :\",\" \".join(reverse_words))\n"
   ]
  },
  {
   "cell_type": "code",
   "execution_count": 25,
   "id": "e95b43ea-c3fe-43db-9dcb-dfe190b10e9f",
   "metadata": {},
   "outputs": [
    {
     "name": "stdin",
     "output_type": "stream",
     "text": [
      "Enter string : Afroz44\n"
     ]
    },
    {
     "name": "stdout",
     "output_type": "stream",
     "text": [
      "String is alphanumeric\n"
     ]
    }
   ],
   "source": [
    "#23 program to check if a string is alphanumeric or not\n",
    "my_str=input(\"Enter string :\")\n",
    "if my_str.isalnum() :\n",
    "    print(\"String is alphanumeric\")\n",
    "else:\n",
    "    print(\"String is not alphanumeric\")"
   ]
  },
  {
   "cell_type": "code",
   "execution_count": 26,
   "id": "f156095d-c023-4b01-bca1-695e79411bc2",
   "metadata": {},
   "outputs": [
    {
     "name": "stdin",
     "output_type": "stream",
     "text": [
      "Enter string : python3 1983\n"
     ]
    },
    {
     "name": "stdout",
     "output_type": "stream",
     "text": [
      "Digits are : 31983\n"
     ]
    }
   ],
   "source": [
    "#24 program to extract all digits from a string\n",
    "my_str=input(\"Enter string :\")\n",
    "digits=\"\"\n",
    "for i in my_str:\n",
    "    if i.isdigit():\n",
    "        digits+=i\n",
    "print(\"Digits are :\",digits)  "
   ]
  },
  {
   "cell_type": "code",
   "execution_count": 27,
   "id": "1e3e2589-3574-4274-8193-025444872ef8",
   "metadata": {},
   "outputs": [
    {
     "name": "stdin",
     "output_type": "stream",
     "text": [
      "Enter string : python3 \n"
     ]
    },
    {
     "name": "stdout",
     "output_type": "stream",
     "text": [
      "Alphabets are : python\n"
     ]
    }
   ],
   "source": [
    "##25 program to extract all alphabets from a string\n",
    "my_str=input(\"Enter string :\")\n",
    "alphabets=\"\"\n",
    "for i in my_str:\n",
    "    if i.isalpha():\n",
    "        alphabets+=i\n",
    "print(\"Alphabets are :\",alphabets)"
   ]
  },
  {
   "cell_type": "code",
   "execution_count": 28,
   "id": "1568eb2f-d011-4757-8f27-11187b2f8008",
   "metadata": {},
   "outputs": [
    {
     "name": "stdin",
     "output_type": "stream",
     "text": [
      "Enter string : AFROZ\n"
     ]
    },
    {
     "name": "stdout",
     "output_type": "stream",
     "text": [
      "Count of uppercase letters are : 5\n"
     ]
    }
   ],
   "source": [
    "#26 program to count number of uppercase letters\n",
    "my_str=input(\"Enter string :\")\n",
    "upper=0\n",
    "for i in my_str:\n",
    "    if i.isupper():\n",
    "        upper+=1\n",
    "print(\"Count of uppercase letters are :\",upper)"
   ]
  },
  {
   "cell_type": "code",
   "execution_count": 29,
   "id": "0286ee0b-078e-4fec-a878-3ccd02d4f04c",
   "metadata": {},
   "outputs": [
    {
     "name": "stdin",
     "output_type": "stream",
     "text": [
      "Enter string : afroz\n"
     ]
    },
    {
     "name": "stdout",
     "output_type": "stream",
     "text": [
      "Count of lowercase letters are : 5\n"
     ]
    }
   ],
   "source": [
    "#27 program to count number of lowercase letters\n",
    "my_str=input(\"Enter string :\")\n",
    "lower=0\n",
    "for i in my_str:\n",
    "    if i.islower():\n",
    "        lower+=1\n",
    "print(\"Count of lowercase letters are :\",lower)"
   ]
  },
  {
   "cell_type": "code",
   "execution_count": 30,
   "id": "6e2cb2e2-b693-45b8-a2e5-222535835cf7",
   "metadata": {},
   "outputs": [
    {
     "name": "stdin",
     "output_type": "stream",
     "text": [
      "Enter string : PythoN\n"
     ]
    },
    {
     "name": "stdout",
     "output_type": "stream",
     "text": [
      "Swapped string is : pYTHOn\n"
     ]
    }
   ],
   "source": [
    "#28 program to swap case of each character\n",
    "my_str=input(\"Enter string :\")\n",
    "swapped_string=my_str.swapcase()\n",
    "print(\"Swapped string is :\",swapped_string)"
   ]
  },
  {
   "cell_type": "code",
   "execution_count": 32,
   "id": "7678ffc9-6668-40c7-b1de-3814d578a7f0",
   "metadata": {},
   "outputs": [
    {
     "name": "stdin",
     "output_type": "stream",
     "text": [
      "Enter string : hi bondam\n",
      "Enter word to remove : b\n"
     ]
    },
    {
     "name": "stdout",
     "output_type": "stream",
     "text": [
      "hi ondam\n"
     ]
    }
   ],
   "source": [
    "#29 program to remove a specific word from string\n",
    "my_str=input(\"Enter string :\")\n",
    "word=input(\"Enter word to remove :\")\n",
    "new_string=my_str.replace(word,\"\")\n",
    "print(new_string)"
   ]
  },
  {
   "cell_type": "code",
   "execution_count": 33,
   "id": "02d1a6e3-fe2b-4cd2-9249-bcf132cf1edc",
   "metadata": {},
   "outputs": [
    {
     "name": "stdin",
     "output_type": "stream",
     "text": [
      "Enter email address : skafroz2200@gmail.com\n"
     ]
    },
    {
     "name": "stdout",
     "output_type": "stream",
     "text": [
      "Valid\n"
     ]
    }
   ],
   "source": [
    "#30 program to check if string is a valid email address\n",
    "import re\n",
    "my_str=input(\"Enter email address :\")\n",
    "valid=\"^[a-zA-Z0-9-_]+@[a-zA-Z0-9]+\\.[a-z]{1,3}$\"\n",
    "if re.match(valid,my_str):\n",
    "    print(\"Valid\")\n",
    "else:\n",
    "    print(\"Not valid\")"
   ]
  },
  {
   "cell_type": "code",
   "execution_count": 34,
   "id": "474008c9-bd97-4b0c-ad4a-020876401183",
   "metadata": {},
   "outputs": [
    {
     "name": "stdin",
     "output_type": "stream",
     "text": [
      "Enter email address : python1983@gmail.com\n"
     ]
    },
    {
     "name": "stdout",
     "output_type": "stream",
     "text": [
      "Username : python1983\n"
     ]
    }
   ],
   "source": [
    "#31 program to extract username from an email address string\n",
    "my_str=input(\"Enter email address :\")\n",
    "username=my_str.index(\"@\")\n",
    "print(\"Username :\",my_str[0:username])"
   ]
  },
  {
   "cell_type": "code",
   "execution_count": 35,
   "id": "9a1b0128-ed66-4ae3-a0d0-d9f40cf41aa6",
   "metadata": {},
   "outputs": [
    {
     "name": "stdin",
     "output_type": "stream",
     "text": [
      "Enter email address : python1983@gmail.com\n"
     ]
    },
    {
     "name": "stdout",
     "output_type": "stream",
     "text": [
      "Domain name : @gmail.com\n"
     ]
    }
   ],
   "source": [
    "#32 program to extract domain name from an email address string\n",
    "my_str=input(\"Enter email address :\")\n",
    "domainname=my_str.index(\"@\")\n",
    "print(\"Domain name :\",my_str[domainname:])"
   ]
  },
  {
   "cell_type": "code",
   "execution_count": 36,
   "id": "199bcebe-208a-4122-95d0-3eb38fbb23f5",
   "metadata": {},
   "outputs": [
    {
     "name": "stdin",
     "output_type": "stream",
     "text": [
      "Enter string : hi     how r u   ???\n"
     ]
    },
    {
     "name": "stdout",
     "output_type": "stream",
     "text": [
      "hi how r u ???\n"
     ]
    }
   ],
   "source": [
    "#33 program to replace multiple spaces in string with single space\n",
    "my_str=input(\"Enter string :\")\n",
    "new_string=\" \".join(my_str.split())\n",
    "print(new_string)"
   ]
  },
  {
   "cell_type": "code",
   "execution_count": 37,
   "id": "e12a9de9-d4a6-4532-8ca6-ea2268ceb27f",
   "metadata": {},
   "outputs": [
    {
     "data": {
      "text/plain": [
       "True"
      ]
     },
     "execution_count": 37,
     "metadata": {},
     "output_type": "execute_result"
    }
   ],
   "source": [
    "#34 program to check url valid or not\n",
    "from urllib.parse import urlparse\n",
    "\n",
    "def is_url(url):\n",
    "  try:\n",
    "    result = urlparse(url)\n",
    "    return all([result.scheme, result.netloc])\n",
    "  except ValueError:\n",
    "    return False\n",
    "is_url(\"https://www.asdf.com\")"
   ]
  },
  {
   "cell_type": "code",
   "execution_count": 42,
   "id": "8fc31b37-6d4c-4aab-911a-6a8b0f7c825e",
   "metadata": {},
   "outputs": [
    {
     "name": "stdout",
     "output_type": "stream",
     "text": [
      "Protocol : https\n"
     ]
    }
   ],
   "source": [
    "#35 program to extract protocol from a URL string\n",
    "def extract_protocol(url):\n",
    "    # Find the index of the first occurrence of \"://\"\n",
    "    protocol_end = url.find(\"://\")\n",
    "\n",
    "    if protocol_end != -1:\n",
    "        # Extract the protocol from the URL\n",
    "        protocol = url[:protocol_end]\n",
    "        return protocol\n",
    "    else:\n",
    "        return None\n",
    "url1= \"https://www.example.com\"\n",
    "protocol = extract_protocol(url1)\n",
    "print(\"Protocol :\", protocol)"
   ]
  },
  {
   "cell_type": "code",
   "execution_count": 38,
   "id": "f1c6e091-e1a8-4f25-84ab-c341515f0393",
   "metadata": {},
   "outputs": [
    {
     "name": "stdout",
     "output_type": "stream",
     "text": [
      "Character:  h Frequency:  1\n",
      "Character:  e Frequency:  1\n",
      "Character:  l Frequency:  3\n",
      "Character:  o Frequency:  2\n",
      "Character:    Frequency:  1\n",
      "Character:  w Frequency:  1\n",
      "Character:  r Frequency:  1\n",
      "Character:  d Frequency:  1\n"
     ]
    }
   ],
   "source": [
    "#36 program to find frequency of each character in a string\n",
    "def frequency(my_str):\n",
    "    freq = {}  \n",
    "    for char in my_str:\n",
    "        if char in freq:\n",
    "            freq[char] += 1 \n",
    "        else:\n",
    "            freq[char] = 1  \n",
    "    return freq\n",
    "my_str = \"hello world\"\n",
    "char_freq = frequency(my_str)\n",
    "for char, freq in char_freq.items():\n",
    "    print(\"Character: \",char, \"Frequency: \",freq)"
   ]
  },
  {
   "cell_type": "code",
   "execution_count": 39,
   "id": "42e97a46-7857-4c51-86f7-c9669fdf5ed2",
   "metadata": {},
   "outputs": [
    {
     "name": "stdin",
     "output_type": "stream",
     "text": [
      "Enter string : \" Helloo World!!! \"\n"
     ]
    },
    {
     "name": "stdout",
     "output_type": "stream",
     "text": [
      " Helloo World \n"
     ]
    }
   ],
   "source": [
    "#37 program to remove all punctuation from a string\n",
    "import string\n",
    "my_str = input(\"Enter string :\")\n",
    "test_str = my_str.translate(my_str.maketrans('', '', string.punctuation))\n",
    "print(test_str)"
   ]
  },
  {
   "cell_type": "code",
   "execution_count": 40,
   "id": "43af6b9b-5669-4a22-ac32-d4c0207363c1",
   "metadata": {},
   "outputs": [
    {
     "name": "stdin",
     "output_type": "stream",
     "text": [
      "Enter string : 5465457\n"
     ]
    },
    {
     "name": "stdout",
     "output_type": "stream",
     "text": [
      "5465457 contains only digits\n"
     ]
    }
   ],
   "source": [
    "#38 program to check if a string contains only digits\n",
    "my_str=input(\"Enter string :\")\n",
    "if my_str.isdigit():\n",
    "    print(my_str,\"contains only digits\")\n",
    "else:\n",
    "    print(my_str,\"does not contains only digits\")"
   ]
  },
  {
   "cell_type": "code",
   "execution_count": 42,
   "id": "3c6c8d7b-63d4-4ff2-92d3-4f05ccbcf8ae",
   "metadata": {},
   "outputs": [
    {
     "name": "stdin",
     "output_type": "stream",
     "text": [
      "Enter string : pythonlang\n"
     ]
    },
    {
     "name": "stdout",
     "output_type": "stream",
     "text": [
      "pythonlang contains only alphabets\n"
     ]
    }
   ],
   "source": [
    "#39 program to check if a string contains only alphabets\n",
    "my_str=input(\"Enter string :\")\n",
    "if my_str.isalpha():\n",
    "    print(my_str,\"contains only alphabets\")\n",
    "else:\n",
    "    print(my_str,\"does not contains only alphabets\")"
   ]
  },
  {
   "cell_type": "code",
   "execution_count": 43,
   "id": "44f3a428-d716-4311-996e-2838ca29643f",
   "metadata": {},
   "outputs": [
    {
     "name": "stdin",
     "output_type": "stream",
     "text": [
      "Enter string: hello world\n"
     ]
    },
    {
     "name": "stdout",
     "output_type": "stream",
     "text": [
      "['h', 'e', 'l', 'l', 'o', ' ', 'w', 'o', 'r', 'l', 'd']\n"
     ]
    }
   ],
   "source": [
    "#40 program to convert a string to a list of characters\n",
    "my_str=input(\"Enter string:\")\n",
    "list_of_char=list(my_str)\n",
    "print(list_of_char)"
   ]
  },
  {
   "cell_type": "code",
   "execution_count": 6,
   "id": "78985314-cde6-4cbc-83de-d09772bdde85",
   "metadata": {},
   "outputs": [
    {
     "name": "stdin",
     "output_type": "stream",
     "text": [
      "Enter string1 : god\n",
      "Enter string2 : dog\n"
     ]
    },
    {
     "name": "stdout",
     "output_type": "stream",
     "text": [
      "god and dog are anagrams\n"
     ]
    }
   ],
   "source": [
    "#41 program to check if two strings are anagrams\n",
    "str1=input(\"Enter string1 :\")\n",
    "str2=input(\"Enter string2 :\")\n",
    "string1=str1.replace(\" \",\"\").lower()\n",
    "string2=str2.replace(\" \",\"\").lower()\n",
    "if sorted(string1)==sorted(string2):\n",
    "    print(str1,\"and\",str2,\"are anagrams\")\n",
    "else:\n",
    "    print(str1,\"and\",str2,\"are not anagrams\")"
   ]
  },
  {
   "cell_type": "code",
   "execution_count": 49,
   "id": "ece690f8-374d-473f-9d11-2847dfc8bd62",
   "metadata": {},
   "outputs": [
    {
     "name": "stdin",
     "output_type": "stream",
     "text": [
      "Enter a string:  likhitha\n",
      "Enter the shift value (an integer):  3\n"
     ]
    },
    {
     "name": "stdout",
     "output_type": "stream",
     "text": [
      "Encrypted text: olnklwkd\n"
     ]
    }
   ],
   "source": [
    "#42 program to encode a string using a Caesar cipher\n",
    "def caesar_cipher_encrypt(text, shift):\n",
    "    encrypted_text = \"\"\n",
    "    for char in text:\n",
    "        if char.isalpha():\n",
    "            if char.islower():\n",
    "                encrypted_char = chr(((ord(char) - ord('a') + shift) % 26) + ord('a'))\n",
    "            else:\n",
    "                encrypted_char = chr(((ord(char) - ord('A') + shift) % 26) + ord('A'))\n",
    "        else:\n",
    "            encrypted_char = char\n",
    "        encrypted_text += encrypted_char\n",
    "    return encrypted_text\n",
    "input_text = input(\"Enter a string: \")\n",
    "shift_amount = int(input(\"Enter the shift value (an integer): \"))\n",
    "encrypted_text = caesar_cipher_encrypt(input_text, shift_amount)\n",
    "print(\"Encrypted text:\", encrypted_text)"
   ]
  },
  {
   "cell_type": "code",
   "execution_count": 50,
   "id": "7204383f-3d59-4a43-996b-bb1d26100394",
   "metadata": {},
   "outputs": [
    {
     "name": "stdin",
     "output_type": "stream",
     "text": [
      "Enter the Caesar cipher encoded string:  likhitha\n",
      "Enter the shift value (an integer):  3\n"
     ]
    },
    {
     "name": "stdout",
     "output_type": "stream",
     "text": [
      "Decrypted text: ifhefqex\n"
     ]
    }
   ],
   "source": [
    "#43 program to decode a Caesar cipher encoded string\n",
    "def caesar_cipher_decrypt(encrypted_text, shift):\n",
    "    decrypted_text = \"\"\n",
    "    for char in encrypted_text:\n",
    "        if char.isalpha():\n",
    "            if char.islower():\n",
    "                decrypted_char = chr(((ord(char) - ord('a') - shift) % 26) + ord('a'))\n",
    "            else:\n",
    "                decrypted_char = chr(((ord(char) - ord('A') - shift) % 26) + ord('A'))\n",
    "        else:\n",
    "            decrypted_char = char\n",
    "        decrypted_text += decrypted_char\n",
    "    return decrypted_text\n",
    "encoded_text = input(\"Enter the Caesar cipher encoded string: \")\n",
    "shift_amount = int(input(\"Enter the shift value (an integer): \"))\n",
    "decrypted_text = caesar_cipher_decrypt(encoded_text, shift_amount)\n",
    "print(\"Decrypted text:\", decrypted_text)"
   ]
  },
  {
   "cell_type": "code",
   "execution_count": 1,
   "id": "c6da8f7f-9135-4478-b5bc-da515a804433",
   "metadata": {},
   "outputs": [
    {
     "name": "stdin",
     "output_type": "stream",
     "text": [
      "Enter a string:  Hello world how's the world\n"
     ]
    },
    {
     "name": "stdout",
     "output_type": "stream",
     "text": [
      "The most frequent word is 'world' with a frequency of 2.\n"
     ]
    }
   ],
   "source": [
    "#44 program to find the most frequent word in a string\n",
    "def most_frequent_word(text):\n",
    "    words = text.split()\n",
    "    word_count = {}\n",
    "    for word in words:\n",
    "        cleaned_word = word.strip(\".,!?\").lower()\n",
    "        if cleaned_word in word_count:\n",
    "            word_count[cleaned_word] += 1\n",
    "        else:\n",
    "            word_count[cleaned_word] = 1\n",
    "    most_frequent = max(word_count, key=word_count.get)\n",
    "    return most_frequent, word_count[most_frequent]\n",
    "input_text = input(\"Enter a string: \")\n",
    "most_frequent, frequency = most_frequent_word(input_text)\n",
    "print(f\"The most frequent word is '{most_frequent}' with a frequency of {frequency}.\")"
   ]
  },
  {
   "cell_type": "code",
   "execution_count": 52,
   "id": "7d5be1f7-ff42-4e1b-b85a-7171d2757d6f",
   "metadata": {},
   "outputs": [
    {
     "name": "stdin",
     "output_type": "stream",
     "text": [
      "Enter a string:  HELLOO WorlD\n"
     ]
    },
    {
     "name": "stdout",
     "output_type": "stream",
     "text": [
      "Unique words in the string: {'world', 'helloo'}\n"
     ]
    }
   ],
   "source": [
    "#45 program to find all unique words in a string\n",
    "def unique_words(text):\n",
    "    words = text.split()\n",
    "    unique_word_set = set()\n",
    "    for word in words:\n",
    "        cleaned_word = word.strip(\".,!?\").lower()\n",
    "        unique_word_set.add(cleaned_word)\n",
    "    return unique_word_set\n",
    "input_text = input(\"Enter a string: \")\n",
    "unique_words_set = unique_words(input_text)\n",
    "print(\"Unique words in the string:\",unique_words_set)"
   ]
  },
  {
   "cell_type": "code",
   "execution_count": 53,
   "id": "1a4eb629-5b21-4b5a-ac8b-c993f0980490",
   "metadata": {},
   "outputs": [
    {
     "name": "stdin",
     "output_type": "stream",
     "text": [
      "Enter string : bananna\n"
     ]
    },
    {
     "name": "stdout",
     "output_type": "stream",
     "text": [
      "'bananna' has 3 syllables.\n"
     ]
    }
   ],
   "source": [
    "#46 program to count the number of syllables in a string\n",
    "import re\n",
    "def count_syllables(word):\n",
    "    vowel_groups = re.findall(r'[aeiouy]+', word, re.IGNORECASE)\n",
    "    return len(vowel_groups)\n",
    "word1 = input(\"Enter string :\")\n",
    "syllables = count_syllables(word1)\n",
    "print(f\"'{word1}' has {syllables} syllables.\")"
   ]
  },
  {
   "cell_type": "code",
   "execution_count": 2,
   "id": "b385d478-348b-441a-a238-be8cc25d39ac",
   "metadata": {},
   "outputs": [
    {
     "name": "stdin",
     "output_type": "stream",
     "text": [
      "Enter a string:  \"How @re you!?\"\n"
     ]
    },
    {
     "name": "stdout",
     "output_type": "stream",
     "text": [
      "The string contains special characters.\n"
     ]
    }
   ],
   "source": [
    "#47 program to check if a string contains any special characters\n",
    "import re\n",
    "def contains_special_characters(text):\n",
    "    pattern = r'[!@#$%^&*()_+{}\\[\\]:;<>,.?~\\\\/-]'\n",
    "    if re.search(pattern, text):\n",
    "        return True\n",
    "    else:\n",
    "        return False\n",
    "input_text = input(\"Enter a string: \")\n",
    "if contains_special_characters(input_text):\n",
    "    print(\"The string contains special characters.\")\n",
    "else:\n",
    "    print(\"The string does not contain special characters.\")\n",
    "\n",
    "    "
   ]
  },
  {
   "cell_type": "code",
   "execution_count": 7,
   "id": "c3a61189-390c-4e63-840b-bec81ae0228d",
   "metadata": {},
   "outputs": [
    {
     "name": "stdin",
     "output_type": "stream",
     "text": [
      "Enter a string:  Iam a very good boy\n",
      "Enter the position (n) of the word to remove:  3\n"
     ]
    },
    {
     "name": "stdout",
     "output_type": "stream",
     "text": [
      "Result: Iam a good boy\n"
     ]
    }
   ],
   "source": [
    "#48 program to remove the nth word from a string\n",
    "def remove_nth_word(input_string, n):\n",
    "    words = input_string.split()\n",
    "    if n >= 1 and n <= len(words):\n",
    "        del words[n - 1]\n",
    "        result_string = ' '.join(words)\n",
    "        return result_string\n",
    "    else:\n",
    "        return \"Invalid value of 'n'\"\n",
    "input_text = input(\"Enter a string: \")\n",
    "n = int(input(\"Enter the position (n) of the word to remove: \"))\n",
    "new_string = remove_nth_word(input_text, n)\n",
    "print(\"Result:\", new_string)"
   ]
  },
  {
   "cell_type": "code",
   "execution_count": 9,
   "id": "5f02f43f-1e29-44ee-9d91-5e56505b9874",
   "metadata": {},
   "outputs": [
    {
     "name": "stdin",
     "output_type": "stream",
     "text": [
      "Enter a string:  Iam a good girl\n",
      "Enter the position (n) at which to insert the word:  3\n",
      "Enter the word to insert:  very\n"
     ]
    },
    {
     "name": "stdout",
     "output_type": "stream",
     "text": [
      "Result: Iam a very good girl\n"
     ]
    }
   ],
   "source": [
    "#49 program to insert a word at the nth position in a string\n",
    "def insert_word_at_nth_position(input_string, n, word_to_insert):\n",
    "    words = input_string.split()\n",
    "    if n >= 1 and n <= len(words) + 1:\n",
    "        words.insert(n - 1, word_to_insert)\n",
    "        result_string = ' '.join(words)\n",
    "        return result_string\n",
    "    else:\n",
    "        return \"Invalid value of 'n'\"\n",
    "input_text = input(\"Enter a string: \")\n",
    "n = int(input(\"Enter the position (n) at which to insert the word: \"))\n",
    "word_to_insert = input(\"Enter the word to insert: \")\n",
    "new_string = insert_word_at_nth_position(input_text, n, word_to_insert)\n",
    "print(\"Result:\", new_string)"
   ]
  },
  {
   "cell_type": "code",
   "execution_count": 1,
   "id": "ccc4bea8-7d51-411b-8ae7-58ebb11ae834",
   "metadata": {},
   "outputs": [
    {
     "name": "stdout",
     "output_type": "stream",
     "text": [
      "['kiwi', 'cherry', 'mango', 'apple', 'banana']\n"
     ]
    }
   ],
   "source": [
    "#50 program to convert a CSV string to a list of lists\n",
    "csv_string = \"kiwi,cherry,mango,apple,banana\"\n",
    "csv_list = []\n",
    "lines = csv_string.split('\\n')\n",
    "for line in lines:\n",
    "    fields = line.split(',')\n",
    "    csv_list.append(fields)\n",
    "for row in csv_list:\n",
    "    print(row)\n",
    "    "
   ]
  },
  {
   "cell_type": "code",
   "execution_count": 3,
   "id": "b0cc3077-8436-4461-b70e-ce145a2e38a7",
   "metadata": {},
   "outputs": [
    {
     "name": "stdout",
     "output_type": "stream",
     "text": [
      "[1, 2, 3, 4, 5, 6, 7, 8, 9, 10]\n"
     ]
    }
   ],
   "source": [
    "#LIST BASED PROBLEMS\n",
    "#1 To create a list with integers from 1 to 10\n",
    "list_int=[i for i in range(1,11)]\n",
    "print(list_int)"
   ]
  },
  {
   "cell_type": "code",
   "execution_count": 4,
   "id": "b965a858-10e7-4843-bef3-8c9d059bf2b9",
   "metadata": {},
   "outputs": [
    {
     "name": "stdout",
     "output_type": "stream",
     "text": [
      "Length of the list: 6\n"
     ]
    }
   ],
   "source": [
    "#2to find the length of list withut using len() method\n",
    "def find_length_of_list(my_list):\n",
    "    count = 0\n",
    "    for _ in my_list:\n",
    "        count += 1\n",
    "    return count\n",
    "\n",
    "# Example usage:\n",
    "my_list = [1, 2, 3, 4, 5,6]\n",
    "length = find_length_of_list(my_list)\n",
    "print(\"Length of the list:\", length)"
   ]
  },
  {
   "cell_type": "code",
   "execution_count": 5,
   "id": "f1678ca2-3dd5-40b6-99bc-d5a2fc5b501d",
   "metadata": {},
   "outputs": [
    {
     "name": "stdout",
     "output_type": "stream",
     "text": [
      "Updated list: [10, 20, 30, 40, 40]\n"
     ]
    }
   ],
   "source": [
    "#3 Append an element to the end of a list\n",
    "list_l1=[10,20,30,40]\n",
    "new_element = 40\n",
    "list_l1.append(new_element)\n",
    "print(\"Updated list:\",list_l1)"
   ]
  },
  {
   "cell_type": "code",
   "execution_count": 6,
   "id": "17a8f980-6dcc-4060-867f-3f90a12760ce",
   "metadata": {},
   "outputs": [
    {
     "name": "stdout",
     "output_type": "stream",
     "text": [
      "[1, 2, 20, 3, 4, 5]\n"
     ]
    }
   ],
   "source": [
    "#4 To insert an element at a  specific index in a list\n",
    "my_list = [1,2,3,4,5]\n",
    "element_to_insert=20\n",
    "index_to_insert_at=2\n",
    "my_list.insert(index_to_insert_at,element_to_insert)\n",
    "print(my_list)"
   ]
  },
  {
   "cell_type": "code",
   "execution_count": 7,
   "id": "c79fce16-9bf1-4375-9031-fe2953f9fb73",
   "metadata": {},
   "outputs": [
    {
     "name": "stdout",
     "output_type": "stream",
     "text": [
      "Updated list: [1, 2, 3, 4]\n"
     ]
    }
   ],
   "source": [
    "#5 Remove an element from a list by its value\n",
    "my_list=[1,2,3,4,5]\n",
    "element_to_remove=5\n",
    "my_list.remove(element_to_remove)\n",
    "print(\"Updated list:\",my_list)"
   ]
  },
  {
   "cell_type": "code",
   "execution_count": 8,
   "id": "4ada3148-57bc-4893-b9f1-fa592d1e02de",
   "metadata": {},
   "outputs": [
    {
     "name": "stdout",
     "output_type": "stream",
     "text": [
      "List after deleting specified item: ['a', 'f', 'f', 'u']\n"
     ]
    }
   ],
   "source": [
    "#6 Remove an element from a list by its index.\n",
    "my_list=['a','f','f','u','u']\n",
    "givenIndex = 3\n",
    "del my_list[givenIndex]\n",
    "print(\"List after deleting specified item:\",my_list)\n"
   ]
  },
  {
   "cell_type": "code",
   "execution_count": 10,
   "id": "a9a5db82-14a1-45a7-b939-a6e47b9efe3a",
   "metadata": {},
   "outputs": [
    {
     "name": "stdin",
     "output_type": "stream",
     "text": [
      "Enter an element : 30\n"
     ]
    },
    {
     "name": "stdout",
     "output_type": "stream",
     "text": [
      "30 exists in the list.\n"
     ]
    }
   ],
   "source": [
    "#7 TO check if an elemnt exists in a list\n",
    "list_l1=[10,20,30,40,50]\n",
    "element_to_check=int(input(\"Enter an element :\"))\n",
    "if element_to_check in list_l1:\n",
    "    print(f\"{element_to_check} exists in the list.\")\n",
    "else:\n",
    "    print(f\"{element_to_check} do not exists in list\")"
   ]
  },
  {
   "cell_type": "code",
   "execution_count": 11,
   "id": "13af3b3c-e625-4879-9073-a9687e6026fb",
   "metadata": {},
   "outputs": [
    {
     "name": "stdin",
     "output_type": "stream",
     "text": [
      "enter a number 40\n"
     ]
    },
    {
     "name": "stdout",
     "output_type": "stream",
     "text": [
      "The index of 40 is 3\n"
     ]
    }
   ],
   "source": [
    "#8 Find the index of the occurence of an element in a list\n",
    "my_list=[10,20,30,40]\n",
    "element_to_find = int(input(\"enter a number\"))\n",
    "index = my_list.index(element_to_find)\n",
    "print(f\"The index of {element_to_find} is {index}\")"
   ]
  },
  {
   "cell_type": "code",
   "execution_count": 12,
   "id": "ede28518-9f58-4b13-a943-028eb08885a8",
   "metadata": {},
   "outputs": [
    {
     "name": "stdin",
     "output_type": "stream",
     "text": [
      "enter an number 30\n"
     ]
    },
    {
     "name": "stdout",
     "output_type": "stream",
     "text": [
      "The element 30 occurs 4 times in the list.\n"
     ]
    }
   ],
   "source": [
    "#9To find the occurence of the elements in the list\n",
    "my_list = [10,20,30,40,50,30,30,40,30]\n",
    "element_to_count=int(input(\"enter an number\"))\n",
    "count = my_list.count(element_to_count)\n",
    "print(f\"The element {element_to_count} occurs {count} times in the list.\")"
   ]
  },
  {
   "cell_type": "code",
   "execution_count": 13,
   "id": "b373e0b7-d7db-4e05-a013-e117b83cf34f",
   "metadata": {},
   "outputs": [
    {
     "name": "stdout",
     "output_type": "stream",
     "text": [
      "[50, 40, 30, 20, 10]\n"
     ]
    }
   ],
   "source": [
    "#10To reverse the order of list\n",
    "my_list=[10,20,30,40,50]\n",
    "reversed_list=my_list[::-1]\n",
    "print(reversed_list)"
   ]
  },
  {
   "cell_type": "code",
   "execution_count": 14,
   "id": "7fb2cc94-1f92-4189-a1c2-226b10db165a",
   "metadata": {},
   "outputs": [
    {
     "name": "stdout",
     "output_type": "stream",
     "text": [
      "[8, 9, 10, 15, 20, 30, 40, 60]\n"
     ]
    }
   ],
   "source": [
    "#11Sort a list in ascending order.\n",
    "my_list=[20,10,30,40,60,15,9,8]\n",
    "sorted_list=sorted(my_list)\n",
    "print(sorted_list)"
   ]
  },
  {
   "cell_type": "code",
   "execution_count": 15,
   "id": "aaa3eeb9-1fe6-4665-9957-ab404adb1f1c",
   "metadata": {},
   "outputs": [
    {
     "name": "stdout",
     "output_type": "stream",
     "text": [
      "[8, 7, 6, 5, 4, 3, 2, 1]\n"
     ]
    }
   ],
   "source": [
    "#12. Sort a list in descending order.\n",
    "my_list=[1,2,3,4,5,6,7,8]\n",
    "descending_order=sorted(my_list,reverse=True)\n",
    "print(descending_order)"
   ]
  },
  {
   "cell_type": "code",
   "execution_count": 16,
   "id": "7072605f-5414-4ef5-b3fb-09f7dd36aa47",
   "metadata": {},
   "outputs": [
    {
     "name": "stdout",
     "output_type": "stream",
     "text": [
      "[2, 4, 6, 8, 10, 12, 14, 16, 18, 20]\n"
     ]
    }
   ],
   "source": [
    "#13. Create a list of even numbers from 1 to 20.\n",
    "even_number = [x for x in range(1,21) if x%2==0]\n",
    "print(even_number)"
   ]
  },
  {
   "cell_type": "code",
   "execution_count": 17,
   "id": "672f7c10-738a-4b24-833e-f7a4fcbc49a8",
   "metadata": {},
   "outputs": [
    {
     "name": "stdout",
     "output_type": "stream",
     "text": [
      "[1, 3, 5, 7, 9, 11, 13, 15, 17, 19]\n"
     ]
    }
   ],
   "source": [
    "#14 create a list of odd numbers from 1 to 20\n",
    "odd_numbers = [x for x in range(1,21) if x%2!=0]\n",
    "print(odd_numbers)"
   ]
  },
  {
   "cell_type": "code",
   "execution_count": 18,
   "id": "dea26469-ed84-4b2f-b25f-2157097fa13f",
   "metadata": {},
   "outputs": [
    {
     "name": "stdout",
     "output_type": "stream",
     "text": [
      "21\n"
     ]
    }
   ],
   "source": [
    "#15 sum of all elements in the list\n",
    "my_list = [1,2,3,4,5,6]\n",
    "list_sum=sum(my_list)\n",
    "print(list_sum)"
   ]
  },
  {
   "cell_type": "code",
   "execution_count": 19,
   "id": "d73cf437-9916-435f-b926-228933663220",
   "metadata": {},
   "outputs": [
    {
     "name": "stdout",
     "output_type": "stream",
     "text": [
      "50\n"
     ]
    }
   ],
   "source": [
    "#16 program to find max value in the list\n",
    "my_list=[10,20,30,40,50]\n",
    "max_value=max(my_list)\n",
    "print(max_value)"
   ]
  },
  {
   "cell_type": "code",
   "execution_count": 20,
   "id": "5ee9602e-a5c2-47dc-925b-068981462bee",
   "metadata": {},
   "outputs": [
    {
     "name": "stdout",
     "output_type": "stream",
     "text": [
      "1\n"
     ]
    }
   ],
   "source": [
    "#17 program to find min vlalue in the lsit\n",
    "my_list=[10,20,30,40,50,1]\n",
    "min_value=min(my_list)\n",
    "print(min_value)"
   ]
  },
  {
   "cell_type": "code",
   "execution_count": 21,
   "id": "b5d9d144-aa4d-474c-94bb-460f7c82644e",
   "metadata": {},
   "outputs": [
    {
     "name": "stdout",
     "output_type": "stream",
     "text": [
      "[1, 4, 9, 16, 25, 36, 49, 64, 81, 100]\n"
     ]
    }
   ],
   "source": [
    "#### 18. Create a list of squares of numbers from 1 to 10\n",
    "squares=[x ** 2 for x in range(1,11)]\n",
    "print(squares)"
   ]
  },
  {
   "cell_type": "code",
   "execution_count": 11,
   "id": "88432718-c5b3-41fe-a21d-1bebf470a832",
   "metadata": {},
   "outputs": [
    {
     "name": "stdout",
     "output_type": "stream",
     "text": [
      "[36, 40, 82, 48, 54, 85, 67, 96, 25, 86]\n"
     ]
    }
   ],
   "source": [
    "### 19. Create a list of random numbers.\n",
    "import random\n",
    "random_integers = [random.randint(1,100) for _ in range(10)]\n",
    "print(random_integers)"
   ]
  },
  {
   "cell_type": "code",
   "execution_count": 12,
   "id": "1e0cabd6-ccf8-4435-8a2a-1f81378e8796",
   "metadata": {},
   "outputs": [
    {
     "name": "stdout",
     "output_type": "stream",
     "text": [
      "[40, 10, 20, 30]\n"
     ]
    }
   ],
   "source": [
    "### 20. Remove duplicates from a list.\n",
    "my_list=[10,20,20,10,20,20,30,40,20]\n",
    "unique_list=list(set(my_list))\n",
    "print(unique_list)"
   ]
  },
  {
   "cell_type": "code",
   "execution_count": 24,
   "id": "a458fca3-e2df-40ca-badd-526fe4b99676",
   "metadata": {},
   "outputs": [
    {
     "name": "stdout",
     "output_type": "stream",
     "text": [
      "[5]\n"
     ]
    }
   ],
   "source": [
    "#21. Find the common elements between two lists.\n",
    "list1 = [1, 2, 3, 4, 5]\n",
    "list2 = [3, 4, 5, 6, 7]\n",
    "list3 = [5, 6, 7, 8, 9]\n",
    "common_elements = list(set(list1) & set(list2) & set(list3))\n",
    "print(common_elements)\n"
   ]
  },
  {
   "cell_type": "code",
   "execution_count": 13,
   "id": "4f11ee41-2c21-4fa8-b635-918a39e4cca3",
   "metadata": {},
   "outputs": [
    {
     "name": "stdout",
     "output_type": "stream",
     "text": [
      "[40, 10, 20, 30]\n"
     ]
    }
   ],
   "source": [
    "#22Difference betweeen two lists\n",
    "list1=[10,20,30,40]\n",
    "list2=[9,18,17,16]\n",
    "difference = list(set(list1) - set(list2))\n",
    "print(difference)"
   ]
  },
  {
   "cell_type": "code",
   "execution_count": 26,
   "id": "7f71882a-a2ea-4efb-b4da-bbff3e5b71f1",
   "metadata": {},
   "outputs": [
    {
     "name": "stdout",
     "output_type": "stream",
     "text": [
      "[10, 20, 30, 40, 50, 60, 70, 80]\n"
     ]
    }
   ],
   "source": [
    "#23 Merge two lists\n",
    "list1=[10,20,30,40]\n",
    "list2=[50,60,70,80]\n",
    "list1.extend(list2)\n",
    "print(list1)"
   ]
  },
  {
   "cell_type": "code",
   "execution_count": 27,
   "id": "8c8ac00e-8432-42e9-99d6-206c5ef523bb",
   "metadata": {},
   "outputs": [
    {
     "name": "stdout",
     "output_type": "stream",
     "text": [
      "[20, 40, 60, 80]\n"
     ]
    }
   ],
   "source": [
    "#24 multiply all the elements in a list by 2\n",
    "my_list=[10,20,30,40]\n",
    "doubled_list=[x*2 for x in my_list]\n",
    "print(doubled_list)"
   ]
  },
  {
   "cell_type": "code",
   "execution_count": 28,
   "id": "249b2f90-63da-4915-86db-4bc7edbdecf4",
   "metadata": {},
   "outputs": [
    {
     "name": "stdout",
     "output_type": "stream",
     "text": [
      "even numbers: [2, 4, 6, 8, 10, 12]\n"
     ]
    }
   ],
   "source": [
    "#25 Filter out all even numbers from a list\n",
    "numbers=[1,2,3,4,6,8,10,12]\n",
    "even_numbers=[num for num in numbers if num % 2 == 0]\n",
    "print(\"even numbers:\",even_numbers)"
   ]
  },
  {
   "cell_type": "code",
   "execution_count": 29,
   "id": "3113a6b4-03a6-4c16-b5b4-f18eb9b7ac74",
   "metadata": {},
   "outputs": [
    {
     "name": "stdout",
     "output_type": "stream",
     "text": [
      "[1, 2, 3, 4, 5]\n"
     ]
    }
   ],
   "source": [
    "### 26. Convert a list of strings to a list of integers.\n",
    "string_list = [\"1\",\"2\",\"3\",\"4\",\"5\"]\n",
    "integer_list=[int(x) for x in string_list]\n",
    "print(integer_list)"
   ]
  },
  {
   "cell_type": "code",
   "execution_count": 30,
   "id": "90699227-41db-4446-af8b-92085eb9061b",
   "metadata": {},
   "outputs": [
    {
     "name": "stdout",
     "output_type": "stream",
     "text": [
      "['1', '2', '3', '4', '5', '6', '7', '8']\n"
     ]
    }
   ],
   "source": [
    "### 27. Convert a list of integers to a list of strings.\n",
    "integer_list=[1,2,3,4,5,6,7,8]\n",
    "string_list=[str(x) for x in integer_list]\n",
    "print(string_list)"
   ]
  },
  {
   "cell_type": "code",
   "execution_count": 31,
   "id": "bc9d79f5-1183-42ad-8a7d-3376098ed2f1",
   "metadata": {},
   "outputs": [
    {
     "name": "stdout",
     "output_type": "stream",
     "text": [
      "[1, 2, 3, 4, [5, 6]]\n"
     ]
    }
   ],
   "source": [
    "#28. Flatten a nested list.\n",
    "def flatten_list(nested_list):\n",
    "    flat_list = [item for sublist in nested_list for item in (sublist if isinstance(sublist, list) else [sublist])]\n",
    "    return flat_list\n",
    "nested_list = [1, [2, 3], [4, [5, 6]]]\n",
    "flat_list = flatten_list(nested_list)\n",
    "print(flat_list)"
   ]
  },
  {
   "cell_type": "code",
   "execution_count": 32,
   "id": "4a2f06c3-d149-400a-9196-9b80a1a0e875",
   "metadata": {},
   "outputs": [
    {
     "name": "stdout",
     "output_type": "stream",
     "text": [
      "First 10 fibonacci numbers: [0, 1]\n"
     ]
    }
   ],
   "source": [
    "#29 list of 10 fibonacci numbers\n",
    "def fibonacci(n):\n",
    "    fibonacci_list = [0,1]\n",
    "    for i in range(2, n):\n",
    "        next_fibonacci = fibonacci-list[i - 1] + fibonacci_list[i - 2]\n",
    "        fibonacci_list.append(next_fibonacci)\n",
    "    return fibonacci_list\n",
    "fibonacci_numbers = fibonacci(2)\n",
    "print(\"First 10 fibonacci numbers:\",fibonacci_numbers)\n"
   ]
  },
  {
   "cell_type": "code",
   "execution_count": 33,
   "id": "14f97209-5e5f-4fce-a729-9badac384b3a",
   "metadata": {},
   "outputs": [
    {
     "name": "stdout",
     "output_type": "stream",
     "text": [
      "The list is sorted in ascending order.\n"
     ]
    }
   ],
   "source": [
    "#30. Create a list of the first 10 Fibonacci numbers.\n",
    "def is_sorted_ascending(lst):\n",
    "    for i in range(1, len(lst)):\n",
    "        if lst[i] < lst[i - 1]:\n",
    "            return False\n",
    "    return True\n",
    "ascending_list = [10, 20, 30, 40, 50]\n",
    "if is_sorted_ascending(ascending_list):\n",
    "    print(\"The list is sorted in ascending order.\")\n",
    "else:\n",
    "    print(\"The list is not sorted in ascending order.\")"
   ]
  },
  {
   "cell_type": "code",
   "execution_count": 37,
   "id": "2291907e-84eb-4e8e-8876-522e2147e3bb",
   "metadata": {},
   "outputs": [
    {
     "name": "stdout",
     "output_type": "stream",
     "text": [
      "Rotated list: [3, 4, 5, 6, 1, 2]\n"
     ]
    }
   ],
   "source": [
    "#31 To rotate a list to the left by  n positions\n",
    "def rotate_left(lst, n):\n",
    "    n = n % len(lst) \n",
    "    rotated = lst[n:] + lst[:n]\n",
    "    return rotated\n",
    "my_list = [1, 2, 3, 4, 5, 6]\n",
    "n = 2\n",
    "rotated_list = rotate_left(my_list, n)\n",
    "print(\"Rotated list:\", rotated_list)"
   ]
  },
  {
   "cell_type": "code",
   "execution_count": 38,
   "id": "39da7e4b-139b-47cc-896c-658e54be1b79",
   "metadata": {},
   "outputs": [
    {
     "name": "stdout",
     "output_type": "stream",
     "text": [
      "Rotated list: [5, 6, 1, 2, 3, 4]\n"
     ]
    }
   ],
   "source": [
    "#32 Rotate a list to right by n positions\n",
    "def rotate_right(lst, n):\n",
    "    n = n % len(lst)  \n",
    "    rotated = lst[-n:] + lst[:-n]\n",
    "    return rotated\n",
    "my_list = [1, 2, 3, 4, 5, 6]\n",
    "n = 2\n",
    "rotated_list = rotate_right(my_list, n)\n",
    "print(\"Rotated list:\", rotated_list)"
   ]
  },
  {
   "cell_type": "code",
   "execution_count": 39,
   "id": "f487319f-189a-4479-87e5-ff86cea7012e",
   "metadata": {},
   "outputs": [
    {
     "name": "stdout",
     "output_type": "stream",
     "text": [
      "[2, 3, 5, 7, 11, 13, 17, 19, 23, 29, 31, 37, 41, 43, 47]\n"
     ]
    }
   ],
   "source": [
    "#33 create a list of prime numbers up to 50\n",
    "def is_prime(num):\n",
    "    if num <= 1:\n",
    "        return False\n",
    "    elif num <= 3:\n",
    "        return True\n",
    "    elif num % 2 == 0 or num % 3 == 0:\n",
    "        return False\n",
    "    i = 5\n",
    "    while i * i <= num:\n",
    "        if num % i == 0 or num % (i + 2) == 0:\n",
    "            return False\n",
    "        i += 6\n",
    "    return True\n",
    "\n",
    "prime_numbers = [num for num in range(2, 51) if is_prime(num)]\n",
    "\n",
    "print(prime_numbers)"
   ]
  },
  {
   "cell_type": "code",
   "execution_count": 40,
   "id": "f44b5289-77ed-41fe-befd-f21530d20fb2",
   "metadata": {},
   "outputs": [
    {
     "name": "stdout",
     "output_type": "stream",
     "text": [
      "[[1, 2], [3, 4], [5, 6], [7, 8], [9]]\n"
     ]
    }
   ],
   "source": [
    "#34 split a list into chunks of size n.\n",
    "def split(list_a, chunk_size):\n",
    "\n",
    "  for i in range(0, len(list_a), chunk_size):\n",
    "    yield list_a[i:i + chunk_size]\n",
    "\n",
    "chunk_size = 2\n",
    "my_list = [1,2,3,4,5,6,7,8,9]\n",
    "print(list(split(my_list, chunk_size)))\n"
   ]
  },
  {
   "cell_type": "code",
   "execution_count": 41,
   "id": "ac065b0d-67c9-421d-a2c3-8a6eef80cdca",
   "metadata": {},
   "outputs": [
    {
     "name": "stdout",
     "output_type": "stream",
     "text": [
      "second largest number: 40\n"
     ]
    }
   ],
   "source": [
    "#35 find the second largest number in the list\n",
    "my_list = [10,20,30,40,50]\n",
    "sorted_list=sorted(set(my_list))\n",
    "if len(sorted_list) >= 2:\n",
    "    second_largest = sorted_list[-2]\n",
    "    print(\"second largest number:\",second_largest)\n",
    "else:\n",
    "    print(\"The list does not contain enough elements\")"
   ]
  },
  {
   "cell_type": "code",
   "execution_count": 42,
   "id": "9939c43a-ed1b-48d2-9bb7-c129ea561fa2",
   "metadata": {},
   "outputs": [
    {
     "name": "stdout",
     "output_type": "stream",
     "text": [
      "[4, 9, 16, 25, 36]\n"
     ]
    }
   ],
   "source": [
    "#36 Replace every element of the lsit with its squares\n",
    "my_list=[2,3,4,5,6]\n",
    "squared_list=[x ** 2 for x in my_list]\n",
    "print(squared_list)"
   ]
  },
  {
   "cell_type": "code",
   "execution_count": 43,
   "id": "c7b3c6ba-b5fb-4d6f-a741-9a9815fe1c01",
   "metadata": {},
   "outputs": [
    {
     "name": "stdout",
     "output_type": "stream",
     "text": [
      "{'apple': 0, 'banana': 1, 'cat': 2, 'dog': 3}\n"
     ]
    }
   ],
   "source": [
    "### 37. Convert a list to a dictionary where list elements become keys and their indices become values.\n",
    "my_list=['apple','banana','cat','dog']\n",
    "my_dict={element: index for index, element in enumerate(my_list)}\n",
    "print(my_dict)"
   ]
  },
  {
   "cell_type": "code",
   "execution_count": 44,
   "id": "4bf9bd66-17e1-4fa7-9c2d-e0241d83d975",
   "metadata": {},
   "outputs": [
    {
     "name": "stdout",
     "output_type": "stream",
     "text": [
      "shuffled list: [3, 9, 6, 1, 2, 4, 7, 5, 8]\n"
     ]
    }
   ],
   "source": [
    "#38 shuffle all the elements in the list\n",
    "import random\n",
    "my_list=[1,2,3,4,5,6,7,8,9]\n",
    "random.shuffle(my_list)\n",
    "print(\"shuffled list:\",my_list)"
   ]
  },
  {
   "cell_type": "code",
   "execution_count": 45,
   "id": "7a11f703-ae93-47e4-a98f-479b2486cd23",
   "metadata": {},
   "outputs": [
    {
     "name": "stdout",
     "output_type": "stream",
     "text": [
      "1! = 1\n",
      "2! = 2\n",
      "3! = 6\n",
      "4! = 24\n",
      "5! = 120\n",
      "6! = 720\n",
      "7! = 5040\n",
      "8! = 40320\n",
      "9! = 362880\n",
      "10! = 3628800\n"
     ]
    }
   ],
   "source": [
    "#39 Create a list of the first 10 factorial numbers.\n",
    "def factorial(n):\n",
    "    if n == 0:\n",
    "        return 1\n",
    "    else:\n",
    "        return n * factorial(n-1)\n",
    "for i in range(1,11):\n",
    "    result = factorial(i)\n",
    "    print(f\"{i}! = {result}\")"
   ]
  },
  {
   "cell_type": "code",
   "execution_count": 46,
   "id": "fa36e493-499c-4f48-9e22-8ae3065017df",
   "metadata": {},
   "outputs": [
    {
     "name": "stdout",
     "output_type": "stream",
     "text": [
      "Common elements: {1, 2, 3, 4, 5, 7}\n"
     ]
    }
   ],
   "source": [
    "## 40. Check if two lists have at least one element in common.\n",
    "list1=[1,2,3,4,5,6,7,8,9]\n",
    "list2=[1,2,3,4,5,10,7,59]\n",
    "set1 = set(list1)\n",
    "set2 = set(list2)\n",
    "common_elements = set1.intersection(set2)\n",
    "\n",
    "if common_elements:\n",
    "    print(\"Common elements:\",common_elements)\n",
    "else:\n",
    "    print(\"No common elements found\")"
   ]
  },
  {
   "cell_type": "code",
   "execution_count": 47,
   "id": "9ac7c65c-18f6-46f5-9720-01d687b845e0",
   "metadata": {},
   "outputs": [
    {
     "name": "stdout",
     "output_type": "stream",
     "text": [
      "[]\n"
     ]
    }
   ],
   "source": [
    "#41 Remove all the elkements from the list\n",
    "my_list=[10,20,30,40,50,60]\n",
    "my_list.clear()\n",
    "print(my_list)"
   ]
  },
  {
   "cell_type": "code",
   "execution_count": 48,
   "id": "64e5537a-c4b5-4c89-8f1f-0a971a399ad8",
   "metadata": {},
   "outputs": [
    {
     "name": "stdout",
     "output_type": "stream",
     "text": [
      "[1, 0, 0, 0, 0, 6]\n"
     ]
    }
   ],
   "source": [
    "#42 Replace negative numbers in a list with 0\n",
    "numbers=[1,-2,-3,-4,-5,6]\n",
    "numbers = [ x if x>=0 else 0 for x in numbers]\n",
    "print(numbers)"
   ]
  },
  {
   "cell_type": "code",
   "execution_count": 49,
   "id": "355f97ee-749e-44f4-aaf9-a61cdf104e36",
   "metadata": {},
   "outputs": [
    {
     "name": "stdout",
     "output_type": "stream",
     "text": [
      "['hello', 'my', 'name', 'is', 'Affu!']\n"
     ]
    }
   ],
   "source": [
    "#43 convert a string into a list of words\n",
    "my_string=\"hello my name is Affu!\"\n",
    "word_list = my_string.split()\n",
    "print(word_list)"
   ]
  },
  {
   "cell_type": "code",
   "execution_count": 50,
   "id": "0d32175b-6b95-4c28-80c6-7ee0f5f707f1",
   "metadata": {},
   "outputs": [
    {
     "name": "stdout",
     "output_type": "stream",
     "text": [
      "converted string: my favourite breakfast is bonda\n"
     ]
    }
   ],
   "source": [
    "#44 Convert a list of word into string\n",
    "word_list=[\"my\", \"favourite\", \"breakfast\" ,\"is\",\"bonda\"]\n",
    "my_string= \" \".join(word_list)\n",
    "print(\"converted string:\",my_string)"
   ]
  },
  {
   "cell_type": "code",
   "execution_count": 51,
   "id": "89e224da-c354-487e-9644-f8a614560ce2",
   "metadata": {},
   "outputs": [
    {
     "name": "stdin",
     "output_type": "stream",
     "text": [
      "Enter the valueof n: 5\n"
     ]
    },
    {
     "name": "stdout",
     "output_type": "stream",
     "text": [
      "[1, 2, 4, 8, 16]\n"
     ]
    }
   ],
   "source": [
    "#45 Create a list of the first n powers of 2\n",
    "def power_of_2(n):\n",
    "    powers = []\n",
    "    for i in range(n):\n",
    "        powers.append(2 ** i)\n",
    "    return powers\n",
    "n=int(input(\"Enter the valueof n:\"))\n",
    "result=power_of_2(n)\n",
    "print(result)"
   ]
  },
  {
   "cell_type": "code",
   "execution_count": 52,
   "id": "610c74f6-c3bc-483a-acb6-539f8f3e5023",
   "metadata": {},
   "outputs": [
    {
     "name": "stdout",
     "output_type": "stream",
     "text": [
      "The longest string is: GummadiKaay\n"
     ]
    }
   ],
   "source": [
    "#46 find the longest string in a list of strings\n",
    "string_list=[\"apple\",\"affu\",\"likki\",\"bondam\",\"pumpkin\",\"GummadiKaay\"]\n",
    "longest_string = max(string_list, key =len)\n",
    "print(\"The longest string is:\", longest_string)"
   ]
  },
  {
   "cell_type": "code",
   "execution_count": 53,
   "id": "0a2f3d53-f1e8-4d67-b973-9d07d4e6994b",
   "metadata": {},
   "outputs": [
    {
     "name": "stdout",
     "output_type": "stream",
     "text": [
      "The shortest string is: affu\n"
     ]
    }
   ],
   "source": [
    "#47 find the shortest string in a list of strings\n",
    "string_lsit=[\"apple\",\"affu\",\"likki\",\"bondam\",\"pumpkin\",\"GummadiKaay\"]\n",
    "shortest_string=min(string_list, key = len)\n",
    "print(\"The shortest string is:\",shortest_string)"
   ]
  },
  {
   "cell_type": "code",
   "execution_count": 54,
   "id": "5039b00a-120b-439d-b7c7-f10301ce5bb9",
   "metadata": {},
   "outputs": [
    {
     "name": "stdout",
     "output_type": "stream",
     "text": [
      "List of the first 5 triangular numbers: [1, 3, 6, 10, 15]\n"
     ]
    }
   ],
   "source": [
    "#48 Create a list of the first n triangular numbers\n",
    "def triangular_numbers(n):\n",
    "    return [i * (i + 1) // 2 for i in range(1, n + 1)]\n",
    "n = 5\n",
    "triangular_list = triangular_numbers(n)\n",
    "print(\"List of the first\", n, \"triangular numbers:\", triangular_list)"
   ]
  },
  {
   "cell_type": "code",
   "execution_count": 55,
   "id": "2934516d-01b4-40a5-a7bc-0da1f22b9316",
   "metadata": {},
   "outputs": [
    {
     "name": "stdout",
     "output_type": "stream",
     "text": [
      "Main list contains the subsequence.\n"
     ]
    }
   ],
   "source": [
    "### 49. Check if a list contains another list as a subsequence\n",
    "def is_subsequence(subsequence, main_list):\n",
    "    subseq_index = 0 \n",
    "    for element in main_list:\n",
    "        if element == subsequence[subseq_index]:\n",
    "            subseq_index += 1\n",
    "            if subseq_index == len(subsequence):\n",
    "                return True\n",
    "    return False\n",
    "main_list = [1, 2, 3, 4, 5, 6, 7, 8, 9, 10]\n",
    "subsequence = [3, 5, 8]\n",
    "if is_subsequence(subsequence, main_list):\n",
    "    print(\"Main list contains the subsequence.\")\n",
    "else:\n",
    "    print(\"Main list does not contain the subsequence.\")"
   ]
  },
  {
   "cell_type": "code",
   "execution_count": 56,
   "id": "0b5c2125-a8b5-4771-bc59-dbceb5e96080",
   "metadata": {},
   "outputs": [
    {
     "name": "stdout",
     "output_type": "stream",
     "text": [
      "List after swapping elements: [1, 3, 2, 4, 5]\n"
     ]
    }
   ],
   "source": [
    "## 50. Swap two elements in a list by their indices.\n",
    "my_list=[1,2,3,4,5]\n",
    "index1 = 1\n",
    "index2 = 2\n",
    "temp = my_list[index1]\n",
    "my_list[index1] = my_list[index2]\n",
    "my_list[index2] = temp\n",
    "print(\"List after swapping elements:\",my_list)"
   ]
  },
  {
   "cell_type": "code",
   "execution_count": 57,
   "id": "95c3c21e-f2fa-45d8-bfdf-3fbb39794772",
   "metadata": {},
   "outputs": [
    {
     "name": "stdout",
     "output_type": "stream",
     "text": [
      "(1, 2, 3, 4, 5)\n"
     ]
    }
   ],
   "source": [
    "#Tuple Based problems\n",
    "### 1. Create a tuple with integers from 1 to 5.\n",
    "x=tuple(range(1,6))\n",
    "print(x)\n"
   ]
  },
  {
   "cell_type": "code",
   "execution_count": 17,
   "id": "4cbc4d59-c63d-471d-abdd-03829a1f5e7b",
   "metadata": {},
   "outputs": [
    {
     "data": {
      "text/plain": [
       "3"
      ]
     },
     "execution_count": 17,
     "metadata": {},
     "output_type": "execute_result"
    }
   ],
   "source": [
    "### 2. Access the third element of a tuple.\n",
    "my_tuple=(1,2,3,4,5)\n",
    "my_tuple[2]"
   ]
  },
  {
   "cell_type": "code",
   "execution_count": 59,
   "id": "7672fbdc-00a1-481a-b372-9caebd78e5e0",
   "metadata": {},
   "outputs": [
    {
     "name": "stdout",
     "output_type": "stream",
     "text": [
      "The length of the tuple is: 6\n"
     ]
    }
   ],
   "source": [
    "### 3. Find the length of a tuple without using the `len()` function.\n",
    "my_tuple = (10,20,30,40,50,60)\n",
    "count=0\n",
    "for _ in my_tuple:\n",
    "    count +=1\n",
    "print(\"The length of the tuple is:\", count)"
   ]
  },
  {
   "cell_type": "code",
   "execution_count": 60,
   "id": "f0a2bec2-0a15-450c-b8c2-30456a4a4a0b",
   "metadata": {},
   "outputs": [
    {
     "name": "stdout",
     "output_type": "stream",
     "text": [
      "occurences: 3\n"
     ]
    }
   ],
   "source": [
    "## 4. Count the occurrences of an element in a tuple.\n",
    "my_tuple=(10,20,20,30,40,50,20,60)\n",
    "count=my_tuple.count(20)\n",
    "print(\"occurences:\",count)"
   ]
  },
  {
   "cell_type": "code",
   "execution_count": 61,
   "id": "f45ff9e4-fdbe-4e17-ba62-127c65ff6ada",
   "metadata": {},
   "outputs": [
    {
     "name": "stdout",
     "output_type": "stream",
     "text": [
      "The first occurence of 10 is at index 0.\n"
     ]
    }
   ],
   "source": [
    "### 5. Find the index of the first occurrence of an element in a tuple.\n",
    "my_tuple=(10,20,30,40)\n",
    "element_to_find = 10\n",
    "index=-1\n",
    "for i, item in enumerate(my_tuple):\n",
    "    if item == element_to_find:\n",
    "        index = i\n",
    "        break\n",
    "if index != -1:\n",
    "    print(f\"The first occurence of {element_to_find} is at index {index}.\")\n",
    "else:\n",
    "    print(f\"{element_to_find} is not found in the tuple.\")\n",
    "    "
   ]
  },
  {
   "cell_type": "code",
   "execution_count": 62,
   "id": "b0ca1e51-191a-445c-b881-cf57fe8b7e7c",
   "metadata": {},
   "outputs": [
    {
     "name": "stdin",
     "output_type": "stream",
     "text": [
      "enter the number 90\n"
     ]
    },
    {
     "name": "stdout",
     "output_type": "stream",
     "text": [
      "the element do not exits in the tuple\n"
     ]
    }
   ],
   "source": [
    "### 6. Check if an element exists in a tuple.\n",
    "my_tuple=(10,20,30,40)\n",
    "x=int(input(\"enter the number\"))\n",
    "if x in my_tuple:\n",
    "    print(\"yes the element exists in my_tuple\")\n",
    "else:\n",
    "    print(\"the element do not exits in the tuple\")"
   ]
  },
  {
   "cell_type": "code",
   "execution_count": 63,
   "id": "cd721651-4ed8-4348-9ae9-407b599e6090",
   "metadata": {},
   "outputs": [
    {
     "name": "stdout",
     "output_type": "stream",
     "text": [
      "[10, 20, 30, 40]\n"
     ]
    }
   ],
   "source": [
    "### 7. Convert a tuple to a list.\n",
    "my_tuple=(10,20,30,40)\n",
    "my_list=list(my_tuple)\n",
    "print(my_list)"
   ]
  },
  {
   "cell_type": "code",
   "execution_count": 107,
   "id": "12325d10-a87e-4c8c-9a1d-ad20bb10e11d",
   "metadata": {},
   "outputs": [
    {
     "name": "stdout",
     "output_type": "stream",
     "text": [
      "[10, 20, 30, 40]\n"
     ]
    }
   ],
   "source": [
    "### 8. Convert a list to a tuple.\n",
    "my_list=[10,20,30,40]\n",
    "my_tuple=(my_list)\n",
    "print(my_tuple)\n",
    "\n"
   ]
  },
  {
   "cell_type": "code",
   "execution_count": 73,
   "id": "fa563f07-0fe9-47c8-9dd9-2d0a15fc791b",
   "metadata": {},
   "outputs": [
    {
     "name": "stdout",
     "output_type": "stream",
     "text": [
      "v1: 10\n",
      "v2: 20\n",
      "v3: 30\n"
     ]
    }
   ],
   "source": [
    "### 9. Unpack the elements of a tuple into variables\n",
    "my_tuple=(10,20,30)\n",
    "v1,v2,v3=my_tuple\n",
    "print(\"v1:\",v1)\n",
    "print(\"v2:\",v2)\n",
    "print(\"v3:\",v3)\n"
   ]
  },
  {
   "cell_type": "code",
   "execution_count": 74,
   "id": "a6a0a457-fecb-4ee3-8747-e9aba0f8ca8f",
   "metadata": {},
   "outputs": [
    {
     "name": "stdout",
     "output_type": "stream",
     "text": [
      "[2, 4, 6, 8, 10]\n"
     ]
    }
   ],
   "source": [
    "### 10. Create a tuple of even numbers from 1 to 10.\n",
    "even_numbers=[x for x in range(1,11) if x % 2 == 0]\n",
    "print(even_numbers)"
   ]
  },
  {
   "cell_type": "code",
   "execution_count": 75,
   "id": "a770f24d-7089-4a02-9dc9-c3bb89ec649d",
   "metadata": {},
   "outputs": [
    {
     "name": "stdout",
     "output_type": "stream",
     "text": [
      "[1, 3, 5, 7, 9]\n"
     ]
    }
   ],
   "source": [
    "### 11. Create a tuple of odd numbers from 1 to 10.\n",
    "odd_numbers=[x for x in range(1,11) if x%2!=0]\n",
    "print(odd_numbers)"
   ]
  },
  {
   "cell_type": "code",
   "execution_count": 76,
   "id": "7d7c4a87-1e87-48f0-8e60-d9196f182ac9",
   "metadata": {},
   "outputs": [
    {
     "name": "stdout",
     "output_type": "stream",
     "text": [
      "(10, 20, 30, 'A', 'B', 'c')\n"
     ]
    }
   ],
   "source": [
    "### 12. Concatenate two tuples.\n",
    "tup1=(10,20,30)\n",
    "tup2=(\"A\",\"B\",\"c\")\n",
    "tup3=tup1+tup2\n",
    "print(tup3)"
   ]
  },
  {
   "cell_type": "code",
   "execution_count": 77,
   "id": "bcd4fa38-d036-4a0b-bcf6-5162067355e9",
   "metadata": {},
   "outputs": [
    {
     "name": "stdout",
     "output_type": "stream",
     "text": [
      "(1, 2, 3, 1, 2, 3, 1, 2, 3)\n"
     ]
    }
   ],
   "source": [
    "### 13. Repeat a tuple three times.\n",
    "my_tuple=(1,2,3)\n",
    "repeat_tuple=my_tuple*3\n",
    "print(repeat_tuple)"
   ]
  },
  {
   "cell_type": "code",
   "execution_count": 79,
   "id": "fa50f6e5-bbff-427e-8af0-6ef57c2fed9c",
   "metadata": {},
   "outputs": [
    {
     "name": "stdout",
     "output_type": "stream",
     "text": [
      "The tuple is empty\n"
     ]
    }
   ],
   "source": [
    "### 14. Check if a tuple is empty.\n",
    "my_tuple = ()\n",
    "if len(my_tuple) == 0:\n",
    "    print(\"The tuple is empty\")\n",
    "else:\n",
    "    print(\"The tuple is not empty\")"
   ]
  },
  {
   "cell_type": "code",
   "execution_count": 80,
   "id": "2c004d39-2819-4d65-9618-e7f46050171d",
   "metadata": {},
   "outputs": [
    {
     "name": "stdout",
     "output_type": "stream",
     "text": [
      "Nested tuple: ((1, 2, 3), ('a', 'b', 'c'), (True, False))\n"
     ]
    }
   ],
   "source": [
    "### 15. Create a nested tuple.\n",
    "nested_tuple = ((1,2,3),('a','b','c'),(True,False))\n",
    "print(\"Nested tuple:\", nested_tuple)"
   ]
  },
  {
   "cell_type": "code",
   "execution_count": 81,
   "id": "151c9bb5-d5ba-4dc7-826e-2ef78e7a65dd",
   "metadata": {},
   "outputs": [
    {
     "data": {
      "text/plain": [
       "(3, 4)"
      ]
     },
     "execution_count": 81,
     "metadata": {},
     "output_type": "execute_result"
    }
   ],
   "source": [
    "### 16. Access the first element of a nested tuple.\n",
    "nested_tuple = ((1,2),(3,4),(5,6))\n",
    "nested_tuple[1]"
   ]
  },
  {
   "cell_type": "code",
   "execution_count": 82,
   "id": "e8e226b4-f09a-4990-bcf2-b7e19f705674",
   "metadata": {},
   "outputs": [
    {
     "name": "stdout",
     "output_type": "stream",
     "text": [
      "single element tuple: (10,)\n"
     ]
    }
   ],
   "source": [
    "### 17. Create a tuple with a single element.\n",
    "my_tuple=(10,)\n",
    "print(\"single element tuple:\",my_tuple)"
   ]
  },
  {
   "cell_type": "code",
   "execution_count": 83,
   "id": "f56c510f-a937-4716-87d3-1527e1e41ed9",
   "metadata": {},
   "outputs": [
    {
     "name": "stdout",
     "output_type": "stream",
     "text": [
      "tup1 == tup2: False\n",
      "tup1 !=tup2: True\n",
      "tup1 < tup2: True\n",
      "tup1 > tup2: False\n",
      "tup1 <=tup2: True\n",
      "tup1 >=tup2: False\n"
     ]
    }
   ],
   "source": [
    "### 18. Compare two tuples.\n",
    "tup1=(1,2,3)\n",
    "tup2=(1,2,4)\n",
    "\n",
    "print(\"tup1 == tup2:\", tup1 == tup2)\n",
    "print(\"tup1 !=tup2:\", tup1 != tup2)\n",
    "print(\"tup1 < tup2:\",tup1 < tup2)\n",
    "print(\"tup1 > tup2:\",tup1 > tup2)\n",
    "print(\"tup1 <=tup2:\",tup1 <= tup2)\n",
    "print(\"tup1 >=tup2:\",tup1 >= tup2)"
   ]
  },
  {
   "cell_type": "code",
   "execution_count": 14,
   "id": "608d56c2-63b2-42d2-9fcf-a3a11845b964",
   "metadata": {},
   "outputs": [
    {
     "ename": "NameError",
     "evalue": "name 'my_tuple' is not defined",
     "output_type": "error",
     "traceback": [
      "\u001b[0;31m---------------------------------------------------------------------------\u001b[0m",
      "\u001b[0;31mNameError\u001b[0m                                 Traceback (most recent call last)",
      "Cell \u001b[0;32mIn[14], line 5\u001b[0m\n\u001b[1;32m      3\u001b[0m my_tuple \u001b[38;5;241m=\u001b[39m (\u001b[38;5;241m1\u001b[39m, \u001b[38;5;241m2\u001b[39m, \u001b[38;5;241m3\u001b[39m, \u001b[38;5;241m4\u001b[39m, \u001b[38;5;241m5\u001b[39m)\n\u001b[1;32m      4\u001b[0m \u001b[38;5;28;01mdel\u001b[39;00m my_tuple\n\u001b[0;32m----> 5\u001b[0m \u001b[38;5;28mprint\u001b[39m(\u001b[43mmy_tuple\u001b[49m)\n\u001b[1;32m      6\u001b[0m \u001b[38;5;66;03m#AFTER DELETING TUPLE IT DO NOT SHOWS\u001b[39;00m\n",
      "\u001b[0;31mNameError\u001b[0m: name 'my_tuple' is not defined"
     ]
    }
   ],
   "source": [
    "#19 Delete a Tuple\n",
    "# Step 1: Create a tuple\n",
    "my_tuple = (1, 2, 3, 4, 5)\n",
    "del my_tuple\n",
    "print(my_tuple)\n",
    "#AFTER DELETING TUPLE IT DO NOT SHOWS"
   ]
  },
  {
   "cell_type": "code",
   "execution_count": 85,
   "id": "4a834dd3-7f20-44ab-8149-98de9d52b169",
   "metadata": {},
   "outputs": [
    {
     "name": "stdout",
     "output_type": "stream",
     "text": [
      "sliced_tuple: (3, 4, 5, 6)\n"
     ]
    }
   ],
   "source": [
    "#20 Slice a Tuple\n",
    "my_tuple=(1,2,3,4,5,6,7)\n",
    "sliced_tuple = my_tuple[2:6]\n",
    "print(\"sliced_tuple:\",sliced_tuple)"
   ]
  },
  {
   "cell_type": "code",
   "execution_count": 86,
   "id": "f6cd93e9-758d-4d53-879d-f0391b1b9913",
   "metadata": {},
   "outputs": [
    {
     "name": "stdout",
     "output_type": "stream",
     "text": [
      "40\n"
     ]
    }
   ],
   "source": [
    "#### 21. Find the maximum value in a tuple\n",
    "my_tuple=(10,20,30,40)\n",
    "max_value=max(my_tuple)\n",
    "print(max_value)"
   ]
  },
  {
   "cell_type": "code",
   "execution_count": 87,
   "id": "ed5f178e-fe63-4712-a871-63a79d8d29f6",
   "metadata": {},
   "outputs": [
    {
     "name": "stdout",
     "output_type": "stream",
     "text": [
      "3\n"
     ]
    }
   ],
   "source": [
    " ### 22. Find the minimum value in a tuple.\n",
    "my_tuple=(10,20,3,40)\n",
    "min_value=min(my_tuple)\n",
    "print(min_value)"
   ]
  },
  {
   "cell_type": "code",
   "execution_count": 16,
   "id": "dbbc4903-5100-41fc-9d20-d46b4a3b467e",
   "metadata": {},
   "outputs": [
    {
     "name": "stdout",
     "output_type": "stream",
     "text": [
      "('H', 'e', 'l', 'l', 'o', ' ', 'A', 'f', 'f', 'u', 'u', 'u', '!')\n"
     ]
    }
   ],
   "source": [
    "### 23. Convert a string to a tuple of characters.\n",
    "my_string = \"Hello Affuuu!\"\n",
    "tuple_of_characters = tuple(my_string)\n",
    "print(tuple_of_characters)"
   ]
  },
  {
   "cell_type": "code",
   "execution_count": 89,
   "id": "708f3404-ea5c-42db-ba87-f0a552d288fe",
   "metadata": {},
   "outputs": [
    {
     "name": "stdout",
     "output_type": "stream",
     "text": [
      "helloworld\n"
     ]
    }
   ],
   "source": [
    "##24. Convert a tuple of characters to a string.\n",
    "my_tuple = ('h','e','l','l','o','w','o','r','l','d')\n",
    "my_string=''.join(my_tuple)\n",
    "print(my_string)"
   ]
  },
  {
   "cell_type": "code",
   "execution_count": 90,
   "id": "c9862a62-df0e-408c-a466-de3595b718c5",
   "metadata": {},
   "outputs": [
    {
     "name": "stdout",
     "output_type": "stream",
     "text": [
      "(1, 'hello', 3.14, True)\n"
     ]
    }
   ],
   "source": [
    "### 25. Create a tuple from multiple data types\n",
    "mixed_tuple = (1,\"hello\",3.14,True)\n",
    "print(mixed_tuple)"
   ]
  },
  {
   "cell_type": "code",
   "execution_count": 91,
   "id": "d488ab26-c532-4d9c-a351-bc46d6b61148",
   "metadata": {},
   "outputs": [
    {
     "name": "stdout",
     "output_type": "stream",
     "text": [
      "the tuples are identical\n"
     ]
    }
   ],
   "source": [
    "## 26. Check if two tuples are identical.\n",
    "tup1 = (1,2,3,4,5)\n",
    "tup2 = (1,2,3,4,5)\n",
    "if tup1==tup2:\n",
    "    print(\"the tuples are identical\")\n",
    "else:\n",
    "    print(\"The tuples are not identical\")"
   ]
  },
  {
   "cell_type": "code",
   "execution_count": 92,
   "id": "ad0d549d-9a89-48af-b8c3-a0196582caaf",
   "metadata": {},
   "outputs": [
    {
     "name": "stdout",
     "output_type": "stream",
     "text": [
      "[10, 12, 15, 20, 30]\n"
     ]
    }
   ],
   "source": [
    "### 27. Sort the elements of a tuple.\n",
    "my_tuple=(10,20,30,15,12)\n",
    "sorted_tuple=sorted(my_tuple)\n",
    "print(sorted_tuple)"
   ]
  },
  {
   "cell_type": "code",
   "execution_count": 48,
   "id": "0d996c96-3be9-48be-8b10-62a77d71e0fa",
   "metadata": {},
   "outputs": [
    {
     "name": "stdout",
     "output_type": "stream",
     "text": [
      "('10', '20', '30', '40')\n"
     ]
    }
   ],
   "source": [
    "### 28. Convert a tuple of integers to a tuple of strings\n",
    "tuple_of_integers=(10,20,30,40)\n",
    "tuple_of_strings = (str(item) for item in tuple_of_integers)\n",
    "print(tuple(tuple_of_strings))"
   ]
  },
  {
   "cell_type": "code",
   "execution_count": 18,
   "id": "1e29998e-7f85-4d36-a2c9-7b247800773b",
   "metadata": {},
   "outputs": [
    {
     "name": "stdout",
     "output_type": "stream",
     "text": [
      "(10, 20, 30, 40)\n"
     ]
    }
   ],
   "source": [
    "#### 29. Convert a tuple of strings to a tuple of integers.\n",
    "tuple_of_strings = [\"10\",\"20\",\"30\",\"40\"]\n",
    "tuple_of_integers = tuple(int(item) for item in tuple_of_strings)\n",
    "print(tuple_of_integers)"
   ]
  },
  {
   "cell_type": "code",
   "execution_count": 206,
   "id": "3c280689-b668-4def-ad36-6a8e677d2de7",
   "metadata": {},
   "outputs": [
    {
     "name": "stdout",
     "output_type": "stream",
     "text": [
      "(1, 2, 3, 4, 5, 6)\n"
     ]
    }
   ],
   "source": [
    "#### 30. Merge two tuples.\n",
    "tup1 = (1,2,3)\n",
    "tup2 = (4,5,6)\n",
    "merged_tuple = tup1+tup2\n",
    "print(merged_tuple)"
   ]
  },
  {
   "cell_type": "code",
   "execution_count": 19,
   "id": "04ea0358-94ae-4693-957a-983bf6118a5f",
   "metadata": {},
   "outputs": [
    {
     "name": "stdout",
     "output_type": "stream",
     "text": [
      "Flattened tuple: [1, 2, 3, 4, 5, 6, 7, 8]\n"
     ]
    }
   ],
   "source": [
    "#31 Recursive function to flatten a nested tuple\n",
    "def flatten_tuple(nested_tuple):\n",
    "    flattened = []\n",
    "    for item in nested_tuple:\n",
    "        if isinstance(item, tuple):\n",
    "            flattened.extend(flatten_tuple(item))\n",
    "        else:\n",
    "            flattened.append(item)\n",
    "    return flattened\n",
    "\n",
    "# Step 1: Create a nested tuple\n",
    "nested_tuple = ((1, 2), (3, 4, 5), (6, (7, 8)))\n",
    "\n",
    "# Step 2: Flatten the nested tuple\n",
    "flattened_tuple = (flatten_tuple(nested_tuple))\n",
    "\n",
    "# Step 3: Print the flattened tuple\n",
    "print(\"Flattened tuple:\", flattened_tuple)"
   ]
  },
  {
   "cell_type": "code",
   "execution_count": 100,
   "id": "5243abe1-bf36-44d1-87b5-7ce4c01ef918",
   "metadata": {},
   "outputs": [
    {
     "name": "stdout",
     "output_type": "stream",
     "text": [
      "Tuple of the first 5 prime numbers: [2, 3, 5, 7, 11]\n"
     ]
    }
   ],
   "source": [
    "### 32. Create a tuple of the first 5 prime numbers\n",
    "def is_prime(num):\n",
    "    if num <= 1:\n",
    "        return False\n",
    "    for i in range(2, int(num ** 0.5) + 1):\n",
    "        if num % i == 0:\n",
    "            return False\n",
    "    return True\n",
    "prime_numbers_list = [num for num in range(2, 100) if is_prime(num)][:5]\n",
    "prime_numbers_tuple = (prime_numbers_list)\n",
    "print(\"Tuple of the first 5 prime numbers:\", prime_numbers_tuple)"
   ]
  },
  {
   "cell_type": "code",
   "execution_count": 108,
   "id": "7f22e069-461d-4578-9e86-5bb7224aa25a",
   "metadata": {},
   "outputs": [
    {
     "name": "stdout",
     "output_type": "stream",
     "text": [
      "True\n"
     ]
    }
   ],
   "source": [
    "### 33. Check if a tuple is a palindrome.\n",
    "def is_palindrome_tuple(my_tuple):\n",
    "    my_list = list(my_tuple)\n",
    "    return my_list == my_list[::-1]\n",
    "my_tuple = [1,2,3,2,1]\n",
    "result = is_palindrome_tuple(my_tuple)\n",
    "print(result)"
   ]
  },
  {
   "cell_type": "code",
   "execution_count": 20,
   "id": "3e67b707-8368-4389-a472-e371eb4bf57e",
   "metadata": {},
   "outputs": [
    {
     "name": "stdout",
     "output_type": "stream",
     "text": [
      "(1, 4, 9, 16, 25)\n"
     ]
    }
   ],
   "source": [
    "### 34. Create a tuple of squares of numbers from 1 to 5.\n",
    "squares_list = []\n",
    "for i in range(1, 6):\n",
    "    squares_list.append(i ** 2)\n",
    "squares_tuple = tuple(squares_list)\n",
    "print(squares_tuple)\n"
   ]
  },
  {
   "cell_type": "code",
   "execution_count": 112,
   "id": "1e1dec8c-d487-4dfe-88e0-1d1d6b580fee",
   "metadata": {},
   "outputs": [
    {
     "name": "stdout",
     "output_type": "stream",
     "text": [
      "[2, 4, 6, 8]\n"
     ]
    }
   ],
   "source": [
    "### 35. Filter out all even numbers from a tuple.\n",
    "lis = [1,2,3,4,5,6,7,8,9]\n",
    "out = []\n",
    "for num in lis:\n",
    "    if num % 2 == 0:\n",
    "        out.append(num)\n",
    "print(out)"
   ]
  },
  {
   "cell_type": "code",
   "execution_count": 47,
   "id": "c027f937-7627-4e00-ad7c-f030ad5409b7",
   "metadata": {},
   "outputs": [
    {
     "name": "stdout",
     "output_type": "stream",
     "text": [
      "Doubled tuple: (2, 4, 6, 8, 10)\n"
     ]
    }
   ],
   "source": [
    "### 36. Multiply all elements in a tuple by 2\n",
    "# Create a tuple\n",
    "original_tuple = (1, 2, 3, 4, 5)\n",
    "\n",
    "# Multiply all elements by 2 using a list comprehension and convert to a tuple\n",
    "doubled_tuple = (num * 2 for num in original_tuple)\n",
    "\n",
    "# Print the doubled tuple\n",
    "print(\"Doubled tuple:\", tuple(doubled_tuple))"
   ]
  },
  {
   "cell_type": "code",
   "execution_count": 118,
   "id": "80474157-9781-476a-bbe0-cf5162f1a61c",
   "metadata": {},
   "outputs": [
    {
     "name": "stdout",
     "output_type": "stream",
     "text": [
      "(26, 84, 21)\n"
     ]
    }
   ],
   "source": [
    "### 37. Create a tuple of random numbers.\n",
    "import random\n",
    "\n",
    "random_numbers = (random.randint(1,100),random.randint(1,100),random.randint(1,100))\n",
    "print(random_numbers)"
   ]
  },
  {
   "cell_type": "code",
   "execution_count": 21,
   "id": "4ef0694d-450a-42ba-85cd-730be42ac55e",
   "metadata": {},
   "outputs": [
    {
     "name": "stdout",
     "output_type": "stream",
     "text": [
      "True\n"
     ]
    }
   ],
   "source": [
    "### 38. Check if a tuple is sorted\n",
    "def is_sorted_tuple(t):\n",
    "    return t == tuple(sorted(t))\n",
    "my_tuple = (1,2,3,4,5)\n",
    "result = is_sorted_tuple(my_tuple)\n",
    "print(result)\n",
    "    "
   ]
  },
  {
   "cell_type": "code",
   "execution_count": 120,
   "id": "5da43f49-fa5c-40b7-87e7-25bce0c05c31",
   "metadata": {},
   "outputs": [
    {
     "name": "stdout",
     "output_type": "stream",
     "text": [
      "(3, 4, 5, 1, 2)\n"
     ]
    }
   ],
   "source": [
    "### 39. Rotate a tuple to the left by `n` positions.\n",
    "def rotate_tuple_left(tup, n):\n",
    "    n = n % len(tup)\n",
    "    rotated_tuple = tup[n:] + tup[:n]  \n",
    "    return rotated_tuple\n",
    "my_tuple = (1, 2, 3, 4, 5)\n",
    "n_positions = 2\n",
    "result = rotate_tuple_left(my_tuple, n_positions)\n",
    "print(result)"
   ]
  },
  {
   "cell_type": "code",
   "execution_count": 121,
   "id": "a384081e-6f71-4270-9ccb-d731ff0ae573",
   "metadata": {},
   "outputs": [
    {
     "name": "stdout",
     "output_type": "stream",
     "text": [
      "(4, 5, 1, 2, 3)\n"
     ]
    }
   ],
   "source": [
    "### 40. Rotate a tuple to the right by `n` positions.\n",
    "def rotate_tuple_right(tup, n):\n",
    "    n = n % len(tup)  \n",
    "    rotated_tuple = tup[-n:] + tup[:-n]  \n",
    "    return rotated_tuple\n",
    "my_tuple = (1, 2, 3, 4, 5)\n",
    "n_positions = 2\n",
    "result = rotate_tuple_right(my_tuple, n_positions)\n",
    "print(result)"
   ]
  },
  {
   "cell_type": "code",
   "execution_count": 22,
   "id": "fe2a9229-c898-4330-8617-adb14a6b4c19",
   "metadata": {},
   "outputs": [
    {
     "name": "stdout",
     "output_type": "stream",
     "text": [
      "(0, 1, 1, 2, 3)\n"
     ]
    }
   ],
   "source": [
    "### 41. Create a tuple of the first 5 Fibonacci numbers.\n",
    "def generate_fibonacci(n):\n",
    "    fibonacci = [0,1]\n",
    "    while len(fibonacci) < n:\n",
    "        next_number = fibonacci[-1] + fibonacci[-2]\n",
    "        fibonacci.append(next_number)\n",
    "    return tuple(fibonacci)\n",
    "fibonacci_tuple = generate_fibonacci(5)\n",
    "print(fibonacci_tuple)"
   ]
  },
  {
   "cell_type": "code",
   "execution_count": 124,
   "id": "d4640d75-d565-4be2-917b-1cd379788bd0",
   "metadata": {},
   "outputs": [
    {
     "name": "stdin",
     "output_type": "stream",
     "text": [
      "enter elements to be separated by commas: 1 2 3 4 5\n"
     ]
    },
    {
     "name": "stdout",
     "output_type": "stream",
     "text": [
      "['1 2 3 4 5']\n"
     ]
    }
   ],
   "source": [
    "### 42. Create a tuple from user input.\n",
    "input_str=input(\"enter elements to be separated by commas:\")\n",
    "input_list = input_str.split(',')\n",
    "user_tuple = (input_list)\n",
    "print(user_tuple)"
   ]
  },
  {
   "cell_type": "code",
   "execution_count": 125,
   "id": "c159150d-6964-445d-a79d-032c17b5429a",
   "metadata": {},
   "outputs": [
    {
     "name": "stdout",
     "output_type": "stream",
     "text": [
      "Original Tuple: (1, 2)\n",
      "Tuple after swapping: (2, 1)\n"
     ]
    }
   ],
   "source": [
    "### 43. Swap two elements in a tuple.\n",
    "my_tuple = (1, 2)\n",
    "print(\"Original Tuple:\", my_tuple)\n",
    "element1, element2 = my_tuple\n",
    "element1, element2 = element2, element1\n",
    "new_tuple = (element1, element2)\n",
    "print(\"Tuple after swapping:\", new_tuple)\n"
   ]
  },
  {
   "cell_type": "code",
   "execution_count": 126,
   "id": "e9414736-fba6-455a-addc-aab6bf568fe4",
   "metadata": {},
   "outputs": [
    {
     "name": "stdout",
     "output_type": "stream",
     "text": [
      "(45, 3, 2, 1, 0)\n"
     ]
    }
   ],
   "source": [
    "### 44. Reverse the elements of a tuple.\n",
    "my_tuple=(0,1,2,3,45)\n",
    "reversed_tuple=my_tuple[::-1]\n",
    "print(reversed_tuple)"
   ]
  },
  {
   "cell_type": "code",
   "execution_count": 128,
   "id": "60c526d7-7451-4211-a18f-e4cf9fd19976",
   "metadata": {},
   "outputs": [
    {
     "name": "stdout",
     "output_type": "stream",
     "text": [
      "Tuple of the first 5 powers of 2: <generator object <genexpr> at 0x7f68bd4c0900>\n"
     ]
    }
   ],
   "source": [
    "#45  Create a tuple of the first `n` powers of 2.\n",
    "n = 5\n",
    "powers_of_2_tuple = (2 ** i for i in range(n))\n",
    "print(\"Tuple of the first\", n,\"powers of 2:\", powers_of_2_tuple)"
   ]
  },
  {
   "cell_type": "code",
   "execution_count": 129,
   "id": "b4b2b68a-f69f-40b9-8bd2-28a1ec4d54e6",
   "metadata": {},
   "outputs": [
    {
     "name": "stdout",
     "output_type": "stream",
     "text": [
      "Longest string: pumpkin\n"
     ]
    }
   ],
   "source": [
    " ### 46. Find the longest string in a tuple of strings.\n",
    "my_tup=(\"apple\",\"ball\",\"cat\",\"dog\",\"pumpkin\")\n",
    "longest_string = max(my_tup, key=len)\n",
    "print(\"Longest string:\",longest_string)"
   ]
  },
  {
   "cell_type": "code",
   "execution_count": 130,
   "id": "5091baf2-7b8f-4723-9cbd-6b2b6a9b01c1",
   "metadata": {},
   "outputs": [
    {
     "name": "stdout",
     "output_type": "stream",
     "text": [
      "cat\n"
     ]
    }
   ],
   "source": [
    "### 47. Find the shortest string in a tuple of strings.\n",
    "my_tup=(\"apple\",\"ball\",\"cat\",\"dog\",\"pumpkin\")\n",
    "shortest_string = min(my_tup, key=len)\n",
    "print(shortest_string)"
   ]
  },
  {
   "cell_type": "code",
   "execution_count": 23,
   "id": "a9153c99-cbff-4281-9292-729f0e82fe43",
   "metadata": {},
   "outputs": [
    {
     "name": "stdout",
     "output_type": "stream",
     "text": [
      "Tuple of the first 5 triangular numbers: (1, 3, 6, 10, 15)\n"
     ]
    }
   ],
   "source": [
    "### 48. Create a tuple of the first `n` triangular numbers.\n",
    "n = 5\n",
    "triangular_numbers_tuple = tuple((i * (i+1)) // 2 for i in range(1,n+1))\n",
    "print(\"Tuple of the first\", n, \"triangular numbers:\", triangular_numbers_tuple)"
   ]
  },
  {
   "cell_type": "code",
   "execution_count": 134,
   "id": "90007833-3961-46b7-afaa-8310ef853552",
   "metadata": {},
   "outputs": [
    {
     "name": "stdout",
     "output_type": "stream",
     "text": [
      "Main tuple contains subsequence tuple: True\n"
     ]
    }
   ],
   "source": [
    "### 49. Check if a tuple contains another tuple as a subsequence.\n",
    "def contains_subsequence(main_tuple, sub_tuple):\n",
    "    sub_length = len(sub_tuple)\n",
    "    for i in range(len(main_tuple) - sub_length + 1):\n",
    "        if main_tuple[i:i+sub_length] == sub_tuple:\n",
    "            return True\n",
    "    return False\n",
    "main_tuple = (1, 2, 3, 4, 5, 6, 7, 8, 9)\n",
    "sub_tuple = (3, 4, 5)\n",
    "contains_subseq = contains_subsequence(main_tuple, sub_tuple)\n",
    "print(\"Main tuple contains subsequence tuple:\", contains_subseq)"
   ]
  },
  {
   "cell_type": "code",
   "execution_count": 24,
   "id": "2b922546-565d-4acc-89bf-31bf920f12db",
   "metadata": {},
   "outputs": [
    {
     "name": "stdout",
     "output_type": "stream",
     "text": [
      "Tuple of alternating 1s and 0s: (0, 1, 0, 1, 0, 1, 0, 1, 0, 1)\n"
     ]
    }
   ],
   "source": [
    "### 50. Create a tuple of alternating 1s and 0s of length `n`.\n",
    "n = 10\n",
    "alternating_tuple = tuple(i  % 2 for i in range(n))\n",
    "print(\"Tuple of alternating 1s and 0s:\",alternating_tuple)"
   ]
  },
  {
   "cell_type": "code",
   "execution_count": 141,
   "id": "5528f8d9-c2f2-4288-9eb3-802fa2e775da",
   "metadata": {},
   "outputs": [
    {
     "name": "stdout",
     "output_type": "stream",
     "text": [
      "{1, 2, 3, 4, 5}\n"
     ]
    }
   ],
   "source": [
    "#SET BASED PROBLEMS\n",
    "#PROBLEMS ON THE SET\n",
    "#1 program to create a set with integers from 1 to 5\n",
    "my_set={1,2,3,4,5}\n",
    "print(my_set)"
   ]
  },
  {
   "cell_type": "code",
   "execution_count": 142,
   "id": "5aa6bb81-0a8b-4098-ace7-8ceec9a957b2",
   "metadata": {},
   "outputs": [
    {
     "name": "stdout",
     "output_type": "stream",
     "text": [
      "{1, 2, 3, 4, 5, 9}\n"
     ]
    }
   ],
   "source": [
    "#2 program to add an element to a set\n",
    "my_set={1,2,3,4,5}\n",
    "my_set.add(9)\n",
    "print(my_set)"
   ]
  },
  {
   "cell_type": "code",
   "execution_count": 143,
   "id": "147a6d1b-f9e9-480f-bccf-1967449cf651",
   "metadata": {},
   "outputs": [
    {
     "name": "stdout",
     "output_type": "stream",
     "text": [
      "{1, 2, 3, 5}\n"
     ]
    }
   ],
   "source": [
    "#3 program to remove an element from a set\n",
    "my_set={1,2,3,4,5}\n",
    "my_set.remove(4)\n",
    "print(my_set)"
   ]
  },
  {
   "cell_type": "code",
   "execution_count": 144,
   "id": "120fea1f-6922-4327-88ef-75ec47a25f45",
   "metadata": {},
   "outputs": [
    {
     "name": "stdout",
     "output_type": "stream",
     "text": [
      "3 exists in set\n"
     ]
    }
   ],
   "source": [
    "#4 program to check if an element exists in a set\n",
    "my_set={1,2,3,4,5}\n",
    "if 3 in my_set:\n",
    "    print(\"3 exists in set\")\n",
    "else:\n",
    "    print(\"3 not exists in set\")"
   ]
  },
  {
   "cell_type": "code",
   "execution_count": 145,
   "id": "a286c979-4d06-4924-8dfa-0fabfa473daf",
   "metadata": {},
   "outputs": [
    {
     "name": "stdout",
     "output_type": "stream",
     "text": [
      "5\n"
     ]
    }
   ],
   "source": [
    "#5 program to find length of a set without using len() function\n",
    "my_set={1,7,3,9,4}\n",
    "count=0\n",
    "for i in my_set:\n",
    "    count+=1\n",
    "print(count)\n",
    "    "
   ]
  },
  {
   "cell_type": "code",
   "execution_count": 31,
   "id": "a3b9d4aa-c4dd-4ed4-84d5-e1bf0bcf563e",
   "metadata": {},
   "outputs": [
    {
     "name": "stdout",
     "output_type": "stream",
     "text": [
      "set()\n"
     ]
    }
   ],
   "source": [
    "#6 program to clear all elements from a set\n",
    "my_set={2,4,5,8,1}\n",
    "my_set.clear()\n",
    "print(my_set)"
   ]
  },
  {
   "cell_type": "code",
   "execution_count": 148,
   "id": "ac26b962-20cd-4f07-bc53-754311516364",
   "metadata": {},
   "outputs": [
    {
     "name": "stdout",
     "output_type": "stream",
     "text": [
      "{2, 4, 6, 8, 10}\n"
     ]
    }
   ],
   "source": [
    "#7 program to create a set of even numbers from 1 to 10\n",
    "my_set=set()\n",
    "for i in range(1,11):\n",
    "    if i%2==0:\n",
    "        my_set.add(i)\n",
    "print(my_set)"
   ]
  },
  {
   "cell_type": "code",
   "execution_count": 149,
   "id": "2abdfebc-e4ba-49bd-92e6-afa64875ae1f",
   "metadata": {},
   "outputs": [
    {
     "name": "stdout",
     "output_type": "stream",
     "text": [
      "{1, 3, 5, 7, 9}\n"
     ]
    }
   ],
   "source": [
    "#8 program to create a set of odd numbers from 1 to 10\n",
    "my_set=set()\n",
    "for i in range(1,11):\n",
    "    if i%2!=0:\n",
    "        my_set.add(i)\n",
    "print(my_set)"
   ]
  },
  {
   "cell_type": "code",
   "execution_count": 150,
   "id": "cd577484-0e4e-4330-84b7-31d3a0d5853f",
   "metadata": {},
   "outputs": [
    {
     "name": "stdout",
     "output_type": "stream",
     "text": [
      "{1, 2, 3, 4, 5, 7, 8, 9}\n"
     ]
    }
   ],
   "source": [
    "#9 program to find the union of two sets\n",
    "set1={1,2,3,4}\n",
    "set2={5,7,8,9}\n",
    "union_of_sets=set1.union(set2)\n",
    "print(union_of_sets)"
   ]
  },
  {
   "cell_type": "code",
   "execution_count": 151,
   "id": "b9a8fa14-1861-4876-ae5f-ea94d68fe5dd",
   "metadata": {},
   "outputs": [
    {
     "name": "stdout",
     "output_type": "stream",
     "text": [
      "{3, 4, 5}\n"
     ]
    }
   ],
   "source": [
    "#10 program to find the intersection of two sets\n",
    "set1={1,2,3,4,5}\n",
    "set2={3,4,5,6,7}\n",
    "intersection_of_sets=set1.intersection(set2)\n",
    "print(intersection_of_sets)"
   ]
  },
  {
   "cell_type": "code",
   "execution_count": 152,
   "id": "dcb83bc1-d669-4249-8fab-b3ec06bf91a8",
   "metadata": {},
   "outputs": [
    {
     "name": "stdout",
     "output_type": "stream",
     "text": [
      "{1, 2}\n",
      "{8, 7}\n"
     ]
    }
   ],
   "source": [
    "#11 program to find the difference between two sets\n",
    "set1={1,2,3,4,5,6}\n",
    "set2={3,4,5,6,7,8}\n",
    "print (set1.difference(set2))\n",
    "print (set2.difference(set1))"
   ]
  },
  {
   "cell_type": "code",
   "execution_count": 153,
   "id": "dbb88738-2cb1-4f34-bd70-a0d1bd2fabb7",
   "metadata": {},
   "outputs": [
    {
     "name": "stdout",
     "output_type": "stream",
     "text": [
      "Is set1 a subset of set2: True\n"
     ]
    }
   ],
   "source": [
    "### 12. Check if a set is a subset of another set.\n",
    "set1 = {1,2,3}\n",
    "set2 = {1,2,3}\n",
    "is_subset = set1.issubset(set2)\n",
    "print(\"Is set1 a subset of set2:\",is_subset)"
   ]
  },
  {
   "cell_type": "code",
   "execution_count": 154,
   "id": "c70e40ee-04b7-4548-9003-a6034d7eb301",
   "metadata": {},
   "outputs": [
    {
     "name": "stdout",
     "output_type": "stream",
     "text": [
      "set1 is a superset of set2\n"
     ]
    }
   ],
   "source": [
    "### 13. Check if a set is a superset of another set.\n",
    "set1 = {1,2,3,4,5}\n",
    "set2 = {3,4}\n",
    "is_superset = set1.issuperset(set2)\n",
    "if is_superset:\n",
    "    print(\"set1 is a superset of set2\")\n",
    "else:\n",
    "    print(\"set1 is not a superset of set2\")\n",
    "    "
   ]
  },
  {
   "cell_type": "code",
   "execution_count": 155,
   "id": "727c7d73-4ef5-45f8-9aa7-2f5ada7984b8",
   "metadata": {},
   "outputs": [
    {
     "name": "stdout",
     "output_type": "stream",
     "text": [
      "{1, 2, 3, 4, 5}\n"
     ]
    }
   ],
   "source": [
    "### 14. Create a set from a list\n",
    "my_list = [1,2,3,4,5]\n",
    "my_set = set(my_list)\n",
    "print(my_set)\n"
   ]
  },
  {
   "cell_type": "code",
   "execution_count": 156,
   "id": "cd3f0255-98b2-49f3-bdbe-625969a060e8",
   "metadata": {},
   "outputs": [
    {
     "name": "stdout",
     "output_type": "stream",
     "text": [
      "[1, 2, 3, 4, 35]\n"
     ]
    }
   ],
   "source": [
    "### 15. Convert a set to a list.\n",
    "my_set = {3,1,2,4,2,35}\n",
    "my_list=list(my_set)\n",
    "print(my_list)"
   ]
  },
  {
   "cell_type": "code",
   "execution_count": 157,
   "id": "79a2c204-2cc3-42a0-9435-b443b8e50b99",
   "metadata": {},
   "outputs": [
    {
     "name": "stdout",
     "output_type": "stream",
     "text": [
      "Updates set after removing 3 : {1, 2, 4}\n"
     ]
    }
   ],
   "source": [
    "### 16. Remove a random element from a set.\n",
    "import random\n",
    "my_set = {1,2,3,4}\n",
    "random_element = random.choice(list(my_set))\n",
    "my_set.remove(random_element)\n",
    "print(\"Updates set after removing\", random_element, \":\", my_set)\n"
   ]
  },
  {
   "cell_type": "code",
   "execution_count": 158,
   "id": "62d4060f-bf51-4057-81df-8d7f86b15c91",
   "metadata": {},
   "outputs": [
    {
     "name": "stdout",
     "output_type": "stream",
     "text": [
      "Popped eleemnt: 1\n",
      "updated set: {2, 3, 45}\n",
      "Set after poppping: {2, 3, 45}\n"
     ]
    }
   ],
   "source": [
    "### 17. Pop an element from a set.\n",
    "my_set = {1,2,3,45}\n",
    "popped_element = my_set.pop()\n",
    "print(\"Popped eleemnt:\",popped_element)\n",
    "print(\"updated set:\", my_set)\n",
    "print(\"Set after poppping:\", my_set)"
   ]
  },
  {
   "cell_type": "code",
   "execution_count": 159,
   "id": "333b7fdf-57a8-466b-b6f2-5aeaf161dbde",
   "metadata": {},
   "outputs": [
    {
     "name": "stdout",
     "output_type": "stream",
     "text": [
      "the two sets have common elements: {1, 3, 4}\n"
     ]
    }
   ],
   "source": [
    "### 18. Check if two sets have no elements in common.\n",
    "set1 = {1,2,3,4}\n",
    "set2 = {1,3,4,5}\n",
    "common_elements =set1.intersection(set2)\n",
    "if not common_elements:\n",
    "    print('The two sets have no common elements')\n",
    "else:\n",
    "    print(\"the two sets have common elements:\", common_elements)"
   ]
  },
  {
   "cell_type": "code",
   "execution_count": 160,
   "id": "2d9024a6-488a-4bf7-8477-f84afb05a036",
   "metadata": {},
   "outputs": [
    {
     "name": "stdout",
     "output_type": "stream",
     "text": [
      "{1, 2, 3, 6, 7, 8}\n"
     ]
    }
   ],
   "source": [
    "### 19. Find the symmetric difference between two sets.\n",
    "set1 = {1,2,3,4,5}\n",
    "set2 = {4,5,6,7,8}\n",
    "symmetric_difference = set1 ^ set2\n",
    "print(symmetric_difference)"
   ]
  },
  {
   "cell_type": "code",
   "execution_count": 161,
   "id": "e8ea66d9-1e66-4e47-a662-c701f60b0864",
   "metadata": {},
   "outputs": [
    {
     "name": "stdout",
     "output_type": "stream",
     "text": [
      "updated set 1: {1, 2, 3, 4, 5, 6}\n"
     ]
    }
   ],
   "source": [
    "### 20. Update a set with elements from another set.\n",
    "set1 = {1,2,3}\n",
    "set2 = {4,5,6}\n",
    "set1.update(set2)\n",
    "print(\"updated set 1:\",set1)\n"
   ]
  },
  {
   "cell_type": "code",
   "execution_count": 162,
   "id": "5215757c-c10b-46ea-b7fa-4c4158fd13af",
   "metadata": {},
   "outputs": [
    {
     "name": "stdout",
     "output_type": "stream",
     "text": [
      "Set of the first 5 prime numbers: {2, 3, 5, 7, 11}\n"
     ]
    }
   ],
   "source": [
    "### 21. Create a set of the first 5 prime numbers.\n",
    "def is_prime(num):\n",
    "    if num <= 1:\n",
    "        return False\n",
    "    for i in range(2, int(num ** 0.5) + 1):\n",
    "        if num % i == 0:\n",
    "            return False\n",
    "    return True\n",
    "prime_set = set()\n",
    "num = 2\n",
    "while len(prime_set) < 5:\n",
    "    if is_prime(num):\n",
    "        prime_set.add(num)\n",
    "    num += 1\n",
    "print(\"Set of the first 5 prime numbers:\", prime_set)"
   ]
  },
  {
   "cell_type": "code",
   "execution_count": 163,
   "id": "5efff185-4297-4f66-9547-896b787bf739",
   "metadata": {},
   "outputs": [
    {
     "name": "stdout",
     "output_type": "stream",
     "text": [
      "The sets are identicaL\n"
     ]
    }
   ],
   "source": [
    "### 22. Check if two sets are identical.\n",
    "set1 = {1,2,3,4,5}\n",
    "set2 = {5,4,3,2,1}\n",
    "if set1 ==set2:\n",
    "    print(\"The sets are identicaL\")\n",
    "else:\n",
    "    print(\"The sets are not identical\")\n",
    "    \n",
    "    "
   ]
  },
  {
   "cell_type": "code",
   "execution_count": 164,
   "id": "0af3733e-0bf0-43a1-a01d-cae235467aa2",
   "metadata": {},
   "outputs": [
    {
     "name": "stdout",
     "output_type": "stream",
     "text": [
      "frozenset({1, 2, 3, 4})\n"
     ]
    }
   ],
   "source": [
    "### 23. Create a frozen set\n",
    "my_set = {1,2,3,4}\n",
    "my_frozen_set = frozenset(my_set)\n",
    "print(my_frozen_set)"
   ]
  },
  {
   "cell_type": "code",
   "execution_count": 165,
   "id": "ecbf7236-551f-4e52-b04b-81542f4ecb34",
   "metadata": {},
   "outputs": [
    {
     "name": "stdout",
     "output_type": "stream",
     "text": [
      "True\n"
     ]
    }
   ],
   "source": [
    "### 24. Check if a set is disjoint with another set.\n",
    "set1 = {1,2,3,4}\n",
    "set2 = {5,6,7,8}\n",
    "\n",
    "disjoint_status = set1.isdisjoint(set2)\n",
    "print(disjoint_status)"
   ]
  },
  {
   "cell_type": "code",
   "execution_count": 166,
   "id": "8e758ef5-490b-48ba-aaaf-b9038a93d7ee",
   "metadata": {},
   "outputs": [
    {
     "name": "stdout",
     "output_type": "stream",
     "text": [
      "Squares of numbers from 1 to 5: [1, 4, 9, 16, 25]\n"
     ]
    }
   ],
   "source": [
    "### 25. Create a set of squares of numbers from 1 to 5.\n",
    "squares=[]\n",
    "for i in range(1,6):\n",
    "    square = i ** 2\n",
    "    squares.append(square)\n",
    "print(\"Squares of numbers from 1 to 5:\",squares)"
   ]
  },
  {
   "cell_type": "code",
   "execution_count": 167,
   "id": "da968aea-af9d-45c2-8f06-c80665acd4f8",
   "metadata": {},
   "outputs": [
    {
     "name": "stdout",
     "output_type": "stream",
     "text": [
      "my_set: {0, 1, 2, 4, 6, 8, 9, 10}\n",
      "Even numbers set: {0, 2, 4, 6, 8, 10}\n"
     ]
    }
   ],
   "source": [
    "### 26. Filter out all even numbers from a set.\n",
    "my_set = {1,2,4,6,8,9,0,10}\n",
    "even_numbers_set = set()\n",
    "for num in my_set:\n",
    "    for num in my_set:\n",
    "        if num % 2 == 0:\n",
    "            even_numbers_set.add(num)\n",
    "print(\"my_set:\", my_set)\n",
    "print(\"Even numbers set:\",even_numbers_set)"
   ]
  },
  {
   "cell_type": "code",
   "execution_count": 168,
   "id": "d07bd2d8-a16d-49d8-bd24-c40b172f3348",
   "metadata": {},
   "outputs": [
    {
     "name": "stdout",
     "output_type": "stream",
     "text": [
      "Original Set: {1, 2, 3, 4, 5}\n",
      "Multiplied Set: {2, 4, 6, 8, 10}\n"
     ]
    }
   ],
   "source": [
    "### 27. Multiply all elements in a set by 2.\n",
    "original_set = {1, 2, 3, 4, 5}\n",
    "multiplied_set = set()\n",
    "for num in original_set:\n",
    "    multiplied_num = num * 2\n",
    "    multiplied_set.add(multiplied_num)\n",
    "print(\"Original Set:\", original_set)\n",
    "print(\"Multiplied Set:\", multiplied_set)"
   ]
  },
  {
   "cell_type": "code",
   "execution_count": 169,
   "id": "c3f84b6b-e182-4183-be26-42af9c4e6a94",
   "metadata": {},
   "outputs": [
    {
     "name": "stdout",
     "output_type": "stream",
     "text": [
      "Random numbers: [1, 6, 76, 11, 39, 54, 48, 91, 51, 91]\n"
     ]
    }
   ],
   "source": [
    "### 28. Create a set of random numbers.\n",
    "import random\n",
    "min_value = 1\n",
    "max_value = 100\n",
    "set_size = 10\n",
    "random_numbers = [random.randint(min_value,max_value) for _ in range(set_size)]\n",
    "print(\"Random numbers:\",random_numbers)"
   ]
  },
  {
   "cell_type": "code",
   "execution_count": 170,
   "id": "974495bb-12cd-454c-a0e5-7d2de864df59",
   "metadata": {},
   "outputs": [
    {
     "name": "stdout",
     "output_type": "stream",
     "text": [
      "The set is empty\n"
     ]
    }
   ],
   "source": [
    "### 29. Check if a set is empty.\n",
    "my_set = set()\n",
    "if len(my_set) == 0:\n",
    "    print(\"The set is empty\")\n",
    "else:\n",
    "    print(\"The set is  not empty\")"
   ]
  },
  {
   "cell_type": "code",
   "execution_count": 171,
   "id": "655a70ac-b1ac-429f-97fd-0d837f5d9e0e",
   "metadata": {},
   "outputs": [
    {
     "name": "stdout",
     "output_type": "stream",
     "text": [
      "{frozenset({1, 2, 3, 4}), frozenset({8, 5, 6, 7})}\n"
     ]
    }
   ],
   "source": [
    "### 30. Create a nested set\n",
    "set1 = {1,2,3,4}\n",
    "set2 = {5,6,7,8}\n",
    "frozen_set1 = frozenset(set1)\n",
    "frozen_set2 = frozenset(set2)\n",
    "nested_set = {frozen_set1,frozen_set2}\n",
    "print(nested_set)"
   ]
  },
  {
   "cell_type": "code",
   "execution_count": 172,
   "id": "f0c31835-be15-48a9-99ca-36f9b037d36f",
   "metadata": {},
   "outputs": [
    {
     "name": "stdout",
     "output_type": "stream",
     "text": [
      "updated set: {1, 2, 4}\n"
     ]
    }
   ],
   "source": [
    "### 31.  Remove an element from a set using the discard method.\n",
    "my_set = {1,2,3,4}\n",
    "my_set.discard(3)\n",
    "print(\"updated set:\",my_set)"
   ]
  },
  {
   "cell_type": "code",
   "execution_count": 45,
   "id": "ae3b3910-47b2-4500-944b-a68e83c86f4a",
   "metadata": {},
   "outputs": [
    {
     "name": "stdout",
     "output_type": "stream",
     "text": [
      "The set are  not equal\n"
     ]
    }
   ],
   "source": [
    "### 32. Compare two sets.\n",
    "set1 = {1,2,3}\n",
    "set2 = {4,5,6}\n",
    "if set1 == set2:\n",
    "    print(\"the sets are equal\")\n",
    "else:\n",
    "    print(\"The set are  not equal\")"
   ]
  },
  {
   "cell_type": "code",
   "execution_count": 26,
   "id": "40ec535d-9013-453e-a571-d0c361f74b83",
   "metadata": {},
   "outputs": [
    {
     "name": "stdout",
     "output_type": "stream",
     "text": [
      "{'k', 'i', 'a', 't', 'L', 'h'}\n"
     ]
    }
   ],
   "source": [
    "### 33. Create a set from a string.\n",
    "input_string = \"Likhitha\"\n",
    "char_set = set(input_string)\n",
    "print(char_set)"
   ]
  },
  {
   "cell_type": "code",
   "execution_count": 27,
   "id": "950f1f75-ed9d-47a0-a788-7ed6d384b3b6",
   "metadata": {},
   "outputs": [
    {
     "name": "stdout",
     "output_type": "stream",
     "text": [
      "{456, 123, 789}\n"
     ]
    }
   ],
   "source": [
    "### 34. Convert a set of strings to a set of integers\n",
    "string_set = {\"123\",\"456\",\"789\"}\n",
    "integer_set = {int(element) for element in string_set}\n",
    "print(integer_set)"
   ]
  },
  {
   "cell_type": "code",
   "execution_count": 44,
   "id": "d8a7e158-122f-4067-924c-886c5e8410ce",
   "metadata": {},
   "outputs": [
    {
     "name": "stdout",
     "output_type": "stream",
     "text": [
      "{'1', '2', '4', '5', '3'}\n"
     ]
    }
   ],
   "source": [
    "### 35. Convert a set of integers to a set of strings\n",
    "integer_set = {1,2,3,4,5}\n",
    "strings_set = {str(element) for element in integer_set}\n",
    "print(strings_set)"
   ]
  },
  {
   "cell_type": "code",
   "execution_count": 177,
   "id": "5ae29314-60d2-4caf-a92a-dda8f95a73f7",
   "metadata": {},
   "outputs": [
    {
     "name": "stdout",
     "output_type": "stream",
     "text": [
      "{1, 2, 3, 4, 5}\n"
     ]
    }
   ],
   "source": [
    "### 36. Create a set from a tuple.\n",
    "input_tuple = (1,2,3,4,5)\n",
    "my_set = set(input_tuple)\n",
    "print(my_set)"
   ]
  },
  {
   "cell_type": "code",
   "execution_count": 25,
   "id": "211525fc-e667-4b9c-8fe7-cf866b804732",
   "metadata": {},
   "outputs": [
    {
     "name": "stdout",
     "output_type": "stream",
     "text": [
      "(1, 2, 3, 4, 5)\n"
     ]
    }
   ],
   "source": [
    "### 37. Convert a set to a tuple.\n",
    "my_set = {1,2,3,4,5}\n",
    "my_tuple = tuple(my_set)\n",
    "print(my_tuple)"
   ]
  },
  {
   "cell_type": "code",
   "execution_count": 182,
   "id": "923f4459-e09d-42cf-91f9-ee952b82c66e",
   "metadata": {},
   "outputs": [
    {
     "name": "stdout",
     "output_type": "stream",
     "text": [
      "maximunm value in the set: 100\n"
     ]
    }
   ],
   "source": [
    "### 38. Find the maximum value in a set\n",
    "my_set = {1,2,3,4,100}\n",
    "max_value = max(my_set)\n",
    "print(\"maximunm value in the set:\",max_value)"
   ]
  },
  {
   "cell_type": "code",
   "execution_count": 183,
   "id": "1b2fdc9e-1b9e-452a-87d9-0eb5a93dfd82",
   "metadata": {},
   "outputs": [
    {
     "name": "stdout",
     "output_type": "stream",
     "text": [
      "minimum value in the set: 1\n"
     ]
    }
   ],
   "source": [
    "### 39. Find the minimum value in a set.\n",
    "my_set = {1,2,3,4,100,500}\n",
    "min_vlaue = min(my_set)\n",
    "print(\"minimum value in the set:\",min_value)"
   ]
  },
  {
   "cell_type": "code",
   "execution_count": 184,
   "id": "72e137f7-6dec-4e9f-9691-f9745a5b2f06",
   "metadata": {},
   "outputs": [
    {
     "name": "stdin",
     "output_type": "stream",
     "text": [
      "enter elements separated by commas: 1,2,3,4,5\n"
     ]
    },
    {
     "name": "stdout",
     "output_type": "stream",
     "text": [
      "{'2', '5', '4', '3', '1'}\n"
     ]
    }
   ],
   "source": [
    "### 40. Create a set from user input\n",
    "user_input = input(\"enter elements separated by commas:\")\n",
    "elements_list = user_input.split(\",\")\n",
    "user_set = set(elements_list)\n",
    "print(user_set)"
   ]
  },
  {
   "cell_type": "code",
   "execution_count": 185,
   "id": "416daa58-aea9-472f-a323-ef63cece7a43",
   "metadata": {},
   "outputs": [
    {
     "name": "stdout",
     "output_type": "stream",
     "text": [
      "The intersection of two sets is empty\n"
     ]
    }
   ],
   "source": [
    "### 41. Check if the intersection of two sets is empty.\n",
    "set1 = {1,2,3,4,5}\n",
    "set2 = {6,7,8,910}\n",
    "intersection_result = set1.intersection(set2)\n",
    "if not intersection_result:\n",
    "    print(\"The intersection of two sets is empty\")\n",
    "else:\n",
    "    print(\"The intersection of the two sets is not empty\")"
   ]
  },
  {
   "cell_type": "code",
   "execution_count": 186,
   "id": "1c72c9a3-d078-4b09-8438-f7971256a2f1",
   "metadata": {},
   "outputs": [
    {
     "name": "stdout",
     "output_type": "stream",
     "text": [
      "The set of the first 5 fibonacci numbers: {1, 2, 3, 5, 8, 13}\n"
     ]
    }
   ],
   "source": [
    "### 42. Create a set of the first 5 Fibonacci numbers.\n",
    "fibonacci_set = set()\n",
    "a,b = 1,2\n",
    "for _ in range(6):\n",
    "    fibonacci_set.add(a)\n",
    "    a,b = b, a+b\n",
    "print(\"The set of the first 5 fibonacci numbers:\",fibonacci_set)"
   ]
  },
  {
   "cell_type": "code",
   "execution_count": 187,
   "id": "548cfcc1-6017-4993-b25c-fdbd152f21e4",
   "metadata": {},
   "outputs": [
    {
     "name": "stdout",
     "output_type": "stream",
     "text": [
      "[1, 2, 3, 4, 5, 6]\n"
     ]
    }
   ],
   "source": [
    "### 43. Remove duplicates from a list using sets.\n",
    "my_list = [1,2,3,2,3,4,5,4,5,6]\n",
    "unique_list = list(set(my_list))\n",
    "print(unique_list)"
   ]
  },
  {
   "cell_type": "code",
   "execution_count": 188,
   "id": "7af2f465-41f8-46d6-b5c3-bbb37e383ec3",
   "metadata": {},
   "outputs": [
    {
     "name": "stdout",
     "output_type": "stream",
     "text": [
      "The sets do not have the same elements.\n"
     ]
    }
   ],
   "source": [
    "### 44. Check if two sets have the same elements, regardless of their count.\n",
    "def have_same_elements(set1,set2):\n",
    "    sorted_list1 = sorted(list(set1))\n",
    "    sorted_list2 = sorted(list(set2))\n",
    "set1  = {1,2,3,2,1,4,5,6,7}\n",
    "set2 = {3,4,5,6,7}\n",
    "result = have_same_elements(set1,set2)\n",
    "if result:\n",
    "    print(\"The sets have the same elemets.\")\n",
    "else:\n",
    "    print(\"The sets do not have the same elements.\")\n",
    "          "
   ]
  },
  {
   "cell_type": "code",
   "execution_count": 189,
   "id": "07d97e67-3c84-4ea6-b6e5-cadffcce8cd5",
   "metadata": {},
   "outputs": [
    {
     "name": "stdin",
     "output_type": "stream",
     "text": [
      "Enter the value of n:  5\n"
     ]
    },
    {
     "name": "stdout",
     "output_type": "stream",
     "text": [
      "Set of the first 5 powers of 2: {1, 2, 4, 8, 16}\n"
     ]
    }
   ],
   "source": [
    "### 45. Create a set of the first `n` powers of 2\n",
    "def powers_of_2(n):\n",
    "    powers_set = set()\n",
    "    power = 1\n",
    "    \n",
    "    for i in range(n):\n",
    "        powers_set.add(power)\n",
    "        power *= 2\n",
    "    \n",
    "    return powers_set\n",
    "\n",
    "n = int(input(\"Enter the value of n: \"))\n",
    "result_set = powers_of_2(n)\n",
    "print(\"Set of the first\", n, \"powers of 2:\", result_set)"
   ]
  },
  {
   "cell_type": "code",
   "execution_count": 190,
   "id": "0fbb84de-5db2-4975-bd13-3c0815748cb0",
   "metadata": {},
   "outputs": [
    {
     "name": "stdout",
     "output_type": "stream",
     "text": [
      "{3}\n"
     ]
    }
   ],
   "source": [
    "### 46. Find the common elements between a set and a list\n",
    "my_set = {3,7,9,12,15}\n",
    "my_list = [1,2,3,4,5]\n",
    "common_elements = my_set.intersection(my_list)\n",
    "print(common_elements)"
   ]
  },
  {
   "cell_type": "code",
   "execution_count": 191,
   "id": "f5d1620a-8eb4-4bbe-ac95-cc8978174677",
   "metadata": {},
   "outputs": [
    {
     "name": "stdout",
     "output_type": "stream",
     "text": [
      "{1, 3, 6, 10, 15}\n"
     ]
    }
   ],
   "source": [
    "### 47. Create a set of the first `n` triangular numbers\n",
    "def generate_triangular_numbers(n):\n",
    "    triangular_numbers = set()\n",
    "    current_sum = 0\n",
    "    for i in range(1, n + 1):\n",
    "        current_sum += i\n",
    "        triangular_numbers.add(current_sum)\n",
    "    return triangular_numbers\n",
    "\n",
    "n = 5  # Change this to the number of triangular numbers you want\n",
    "triangular_set = generate_triangular_numbers(n)\n",
    "print(triangular_set)"
   ]
  },
  {
   "cell_type": "code",
   "execution_count": 192,
   "id": "90e89724-07e6-4b28-9658-420eef874693",
   "metadata": {},
   "outputs": [
    {
     "name": "stdout",
     "output_type": "stream",
     "text": [
      "set2 is a subset of set1\n"
     ]
    }
   ],
   "source": [
    "### 48. Check if a set contains another set as a subset.\n",
    "set1 ={1,2,3,4,5}\n",
    "set2 = {3,4}\n",
    "is_subset = set2.issubset(set1)\n",
    "if is_subset:\n",
    "    print(\"set2 is a subset of set1\")\n",
    "else:\n",
    "    print(\"set2 is not a subset of set1\")"
   ]
  },
  {
   "cell_type": "code",
   "execution_count": 193,
   "id": "ee68fd18-4b1d-4b12-9787-85649010061b",
   "metadata": {},
   "outputs": [
    {
     "name": "stdout",
     "output_type": "stream",
     "text": [
      "101010\n"
     ]
    }
   ],
   "source": [
    "### 49. Create a set of alternating 1s and 0s of length `n`\n",
    "def alternating_ones_and_zeros(n):\n",
    "    result = \"\"\n",
    "    for i in range(n):\n",
    "        if i % 2 == 0:\n",
    "            result += \"1\"\n",
    "        else:\n",
    "            result += \"0\"\n",
    "    return result\n",
    "\n",
    "# Replace '6' with the desired length 'n'\n",
    "n = 6\n",
    "alternating_sequence = alternating_ones_and_zeros(n)\n",
    "print(alternating_sequence)"
   ]
  },
  {
   "cell_type": "code",
   "execution_count": 194,
   "id": "7ff36ef8-ad50-4c31-b484-d0f610d0cd74",
   "metadata": {},
   "outputs": [
    {
     "name": "stdout",
     "output_type": "stream",
     "text": [
      "Merged Set: {1, 2, 3, 4, 5, 6, 7, 8, 9}\n"
     ]
    }
   ],
   "source": [
    "### 50. Merge multiple sets into one.\n",
    "set1 = {1,2,3}\n",
    "set2 = {4,5,6}\n",
    "set3 = {7,8,9}\n",
    "merged_set = set1.union(set2,set3)\n",
    "print(\"Merged Set:\",merged_set)"
   ]
  }
 ],
 "metadata": {
  "kernelspec": {
   "display_name": "Python 3 (ipykernel)",
   "language": "python",
   "name": "python3"
  },
  "language_info": {
   "codemirror_mode": {
    "name": "ipython",
    "version": 3
   },
   "file_extension": ".py",
   "mimetype": "text/x-python",
   "name": "python",
   "nbconvert_exporter": "python",
   "pygments_lexer": "ipython3",
   "version": "3.10.8"
  }
 },
 "nbformat": 4,
 "nbformat_minor": 5
}
